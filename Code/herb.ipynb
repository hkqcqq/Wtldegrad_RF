{
 "cells": [
  {
   "cell_type": "code",
   "execution_count": 1,
   "metadata": {
    "colab": {
     "base_uri": "https://localhost:8080/",
     "height": 206
    },
    "executionInfo": {
     "elapsed": 1041,
     "status": "ok",
     "timestamp": 1633367312746,
     "user": {
      "displayName": "keqi he",
      "photoUrl": "https://lh3.googleusercontent.com/a/default-user=s64",
      "userId": "14588499186061235912"
     },
     "user_tz": 240
    },
    "id": "FaCE0mYG57oz",
    "outputId": "0f6783f1-9645-498a-a837-b35d058121f4"
   },
   "outputs": [
    {
     "data": {
      "text/html": [
       "<div>\n",
       "<style scoped>\n",
       "    .dataframe tbody tr th:only-of-type {\n",
       "        vertical-align: middle;\n",
       "    }\n",
       "\n",
       "    .dataframe tbody tr th {\n",
       "        vertical-align: top;\n",
       "    }\n",
       "\n",
       "    .dataframe thead th {\n",
       "        text-align: right;\n",
       "    }\n",
       "</style>\n",
       "<table border=\"1\" class=\"dataframe\">\n",
       "  <thead>\n",
       "    <tr style=\"text-align: right;\">\n",
       "      <th></th>\n",
       "      <th>dem</th>\n",
       "      <th>dist2canal</th>\n",
       "      <th>saltwater_max</th>\n",
       "      <th>groundwater_max</th>\n",
       "      <th>gw_duration</th>\n",
       "      <th>degradation</th>\n",
       "    </tr>\n",
       "  </thead>\n",
       "  <tbody>\n",
       "    <tr>\n",
       "      <th>0</th>\n",
       "      <td>0.49162</td>\n",
       "      <td>2167.071757</td>\n",
       "      <td>-0.313155</td>\n",
       "      <td>-0.065841</td>\n",
       "      <td>0.948087</td>\n",
       "      <td>1</td>\n",
       "    </tr>\n",
       "    <tr>\n",
       "      <th>1</th>\n",
       "      <td>0.23643</td>\n",
       "      <td>2145.367101</td>\n",
       "      <td>0.004312</td>\n",
       "      <td>0.185173</td>\n",
       "      <td>0.890411</td>\n",
       "      <td>1</td>\n",
       "    </tr>\n",
       "    <tr>\n",
       "      <th>2</th>\n",
       "      <td>0.48290</td>\n",
       "      <td>2128.097742</td>\n",
       "      <td>-0.274469</td>\n",
       "      <td>-0.062764</td>\n",
       "      <td>0.920548</td>\n",
       "      <td>1</td>\n",
       "    </tr>\n",
       "    <tr>\n",
       "      <th>3</th>\n",
       "      <td>0.54644</td>\n",
       "      <td>2012.461180</td>\n",
       "      <td>-0.268560</td>\n",
       "      <td>-0.140773</td>\n",
       "      <td>1.000000</td>\n",
       "      <td>1</td>\n",
       "    </tr>\n",
       "    <tr>\n",
       "      <th>4</th>\n",
       "      <td>0.00000</td>\n",
       "      <td>2177.016307</td>\n",
       "      <td>0.195966</td>\n",
       "      <td>0.313153</td>\n",
       "      <td>0.800000</td>\n",
       "      <td>1</td>\n",
       "    </tr>\n",
       "  </tbody>\n",
       "</table>\n",
       "</div>"
      ],
      "text/plain": [
       "       dem   dist2canal  saltwater_max  groundwater_max  gw_duration  \\\n",
       "0  0.49162  2167.071757      -0.313155        -0.065841     0.948087   \n",
       "1  0.23643  2145.367101       0.004312         0.185173     0.890411   \n",
       "2  0.48290  2128.097742      -0.274469        -0.062764     0.920548   \n",
       "3  0.54644  2012.461180      -0.268560        -0.140773     1.000000   \n",
       "4  0.00000  2177.016307       0.195966         0.313153     0.800000   \n",
       "\n",
       "   degradation  \n",
       "0            1  \n",
       "1            1  \n",
       "2            1  \n",
       "3            1  \n",
       "4            1  "
      ]
     },
     "execution_count": 1,
     "metadata": {},
     "output_type": "execute_result"
    }
   ],
   "source": [
    "# Pandas is used for data manipulation\n",
    "import pandas as pd\n",
    "# Read in data and display first 5 rows\n",
    "features = pd.read_csv('herb.csv')\n",
    "features.head(5)"
   ]
  },
  {
   "cell_type": "code",
   "execution_count": 2,
   "metadata": {
    "colab": {
     "base_uri": "https://localhost:8080/"
    },
    "executionInfo": {
     "elapsed": 91,
     "status": "ok",
     "timestamp": 1633367314257,
     "user": {
      "displayName": "keqi he",
      "photoUrl": "https://lh3.googleusercontent.com/a/default-user=s64",
      "userId": "14588499186061235912"
     },
     "user_tz": 240
    },
    "id": "y6cW14lCKlko",
    "outputId": "0d09ecd9-86d5-4720-c91a-c7979732a0fc"
   },
   "outputs": [
    {
     "name": "stdout",
     "output_type": "stream",
     "text": [
      "The shape of our features is: (15528, 6)\n"
     ]
    }
   ],
   "source": [
    "print('The shape of our features is:', features.shape)"
   ]
  },
  {
   "cell_type": "code",
   "execution_count": 3,
   "metadata": {
    "colab": {
     "base_uri": "https://localhost:8080/",
     "height": 300
    },
    "executionInfo": {
     "elapsed": 213,
     "status": "ok",
     "timestamp": 1633367315731,
     "user": {
      "displayName": "keqi he",
      "photoUrl": "https://lh3.googleusercontent.com/a/default-user=s64",
      "userId": "14588499186061235912"
     },
     "user_tz": 240
    },
    "id": "rKOwKekgKxsG",
    "outputId": "f8eefb6d-31d8-4652-9b0a-db1ade540714"
   },
   "outputs": [
    {
     "data": {
      "text/html": [
       "<div>\n",
       "<style scoped>\n",
       "    .dataframe tbody tr th:only-of-type {\n",
       "        vertical-align: middle;\n",
       "    }\n",
       "\n",
       "    .dataframe tbody tr th {\n",
       "        vertical-align: top;\n",
       "    }\n",
       "\n",
       "    .dataframe thead th {\n",
       "        text-align: right;\n",
       "    }\n",
       "</style>\n",
       "<table border=\"1\" class=\"dataframe\">\n",
       "  <thead>\n",
       "    <tr style=\"text-align: right;\">\n",
       "      <th></th>\n",
       "      <th>dem</th>\n",
       "      <th>dist2canal</th>\n",
       "      <th>saltwater_max</th>\n",
       "      <th>groundwater_max</th>\n",
       "      <th>gw_duration</th>\n",
       "      <th>degradation</th>\n",
       "    </tr>\n",
       "  </thead>\n",
       "  <tbody>\n",
       "    <tr>\n",
       "      <th>count</th>\n",
       "      <td>15528.000000</td>\n",
       "      <td>15528.000000</td>\n",
       "      <td>15528.000000</td>\n",
       "      <td>15528.000000</td>\n",
       "      <td>15528.000000</td>\n",
       "      <td>15528.000000</td>\n",
       "    </tr>\n",
       "    <tr>\n",
       "      <th>mean</th>\n",
       "      <td>0.301437</td>\n",
       "      <td>1431.671609</td>\n",
       "      <td>-0.096711</td>\n",
       "      <td>0.098355</td>\n",
       "      <td>0.605875</td>\n",
       "      <td>0.250386</td>\n",
       "    </tr>\n",
       "    <tr>\n",
       "      <th>std</th>\n",
       "      <td>0.285728</td>\n",
       "      <td>1049.244565</td>\n",
       "      <td>0.264882</td>\n",
       "      <td>0.193068</td>\n",
       "      <td>0.319432</td>\n",
       "      <td>0.433250</td>\n",
       "    </tr>\n",
       "    <tr>\n",
       "      <th>min</th>\n",
       "      <td>-1.037500</td>\n",
       "      <td>0.000000</td>\n",
       "      <td>-2.271717</td>\n",
       "      <td>-1.619558</td>\n",
       "      <td>0.000000</td>\n",
       "      <td>0.000000</td>\n",
       "    </tr>\n",
       "    <tr>\n",
       "      <th>25%</th>\n",
       "      <td>0.146927</td>\n",
       "      <td>602.992537</td>\n",
       "      <td>-0.225874</td>\n",
       "      <td>-0.018399</td>\n",
       "      <td>0.320548</td>\n",
       "      <td>0.000000</td>\n",
       "    </tr>\n",
       "    <tr>\n",
       "      <th>50%</th>\n",
       "      <td>0.267480</td>\n",
       "      <td>1332.553939</td>\n",
       "      <td>-0.075725</td>\n",
       "      <td>0.100540</td>\n",
       "      <td>0.654101</td>\n",
       "      <td>0.000000</td>\n",
       "    </tr>\n",
       "    <tr>\n",
       "      <th>75%</th>\n",
       "      <td>0.396320</td>\n",
       "      <td>1838.831150</td>\n",
       "      <td>0.073035</td>\n",
       "      <td>0.222079</td>\n",
       "      <td>0.914683</td>\n",
       "      <td>1.000000</td>\n",
       "    </tr>\n",
       "    <tr>\n",
       "      <th>max</th>\n",
       "      <td>2.577700</td>\n",
       "      <td>4857.869904</td>\n",
       "      <td>1.256925</td>\n",
       "      <td>1.353135</td>\n",
       "      <td>1.000000</td>\n",
       "      <td>1.000000</td>\n",
       "    </tr>\n",
       "  </tbody>\n",
       "</table>\n",
       "</div>"
      ],
      "text/plain": [
       "                dem    dist2canal  saltwater_max  groundwater_max  \\\n",
       "count  15528.000000  15528.000000   15528.000000     15528.000000   \n",
       "mean       0.301437   1431.671609      -0.096711         0.098355   \n",
       "std        0.285728   1049.244565       0.264882         0.193068   \n",
       "min       -1.037500      0.000000      -2.271717        -1.619558   \n",
       "25%        0.146927    602.992537      -0.225874        -0.018399   \n",
       "50%        0.267480   1332.553939      -0.075725         0.100540   \n",
       "75%        0.396320   1838.831150       0.073035         0.222079   \n",
       "max        2.577700   4857.869904       1.256925         1.353135   \n",
       "\n",
       "        gw_duration   degradation  \n",
       "count  15528.000000  15528.000000  \n",
       "mean       0.605875      0.250386  \n",
       "std        0.319432      0.433250  \n",
       "min        0.000000      0.000000  \n",
       "25%        0.320548      0.000000  \n",
       "50%        0.654101      0.000000  \n",
       "75%        0.914683      1.000000  \n",
       "max        1.000000      1.000000  "
      ]
     },
     "execution_count": 3,
     "metadata": {},
     "output_type": "execute_result"
    }
   ],
   "source": [
    "# Descriptive statistics for each column\n",
    "features.describe()"
   ]
  },
  {
   "cell_type": "code",
   "execution_count": 4,
   "metadata": {
    "executionInfo": {
     "elapsed": 89,
     "status": "ok",
     "timestamp": 1633367317363,
     "user": {
      "displayName": "keqi he",
      "photoUrl": "https://lh3.googleusercontent.com/a/default-user=s64",
      "userId": "14588499186061235912"
     },
     "user_tz": 240
    },
    "id": "ocllOMhKMLZX"
   },
   "outputs": [],
   "source": [
    "features = pd.DataFrame(features)"
   ]
  },
  {
   "cell_type": "code",
   "execution_count": 5,
   "metadata": {
    "colab": {
     "base_uri": "https://localhost:8080/",
     "height": 424
    },
    "executionInfo": {
     "elapsed": 164,
     "status": "ok",
     "timestamp": 1633367318204,
     "user": {
      "displayName": "keqi he",
      "photoUrl": "https://lh3.googleusercontent.com/a/default-user=s64",
      "userId": "14588499186061235912"
     },
     "user_tz": 240
    },
    "id": "06CPVUPjN1nn",
    "outputId": "7d5dbfac-88cc-4101-92f1-3c978140d443"
   },
   "outputs": [
    {
     "data": {
      "text/html": [
       "<div>\n",
       "<style scoped>\n",
       "    .dataframe tbody tr th:only-of-type {\n",
       "        vertical-align: middle;\n",
       "    }\n",
       "\n",
       "    .dataframe tbody tr th {\n",
       "        vertical-align: top;\n",
       "    }\n",
       "\n",
       "    .dataframe thead th {\n",
       "        text-align: right;\n",
       "    }\n",
       "</style>\n",
       "<table border=\"1\" class=\"dataframe\">\n",
       "  <thead>\n",
       "    <tr style=\"text-align: right;\">\n",
       "      <th></th>\n",
       "      <th>dem</th>\n",
       "      <th>dist2canal</th>\n",
       "      <th>saltwater_max</th>\n",
       "      <th>groundwater_max</th>\n",
       "      <th>gw_duration</th>\n",
       "      <th>degradation</th>\n",
       "    </tr>\n",
       "  </thead>\n",
       "  <tbody>\n",
       "    <tr>\n",
       "      <th>0</th>\n",
       "      <td>0.491620</td>\n",
       "      <td>2167.071757</td>\n",
       "      <td>-0.313155</td>\n",
       "      <td>-0.065841</td>\n",
       "      <td>0.948087</td>\n",
       "      <td>1</td>\n",
       "    </tr>\n",
       "    <tr>\n",
       "      <th>1</th>\n",
       "      <td>0.236430</td>\n",
       "      <td>2145.367101</td>\n",
       "      <td>0.004312</td>\n",
       "      <td>0.185173</td>\n",
       "      <td>0.890411</td>\n",
       "      <td>1</td>\n",
       "    </tr>\n",
       "    <tr>\n",
       "      <th>2</th>\n",
       "      <td>0.482900</td>\n",
       "      <td>2128.097742</td>\n",
       "      <td>-0.274469</td>\n",
       "      <td>-0.062764</td>\n",
       "      <td>0.920548</td>\n",
       "      <td>1</td>\n",
       "    </tr>\n",
       "    <tr>\n",
       "      <th>3</th>\n",
       "      <td>0.546440</td>\n",
       "      <td>2012.461180</td>\n",
       "      <td>-0.268560</td>\n",
       "      <td>-0.140773</td>\n",
       "      <td>1.000000</td>\n",
       "      <td>1</td>\n",
       "    </tr>\n",
       "    <tr>\n",
       "      <th>4</th>\n",
       "      <td>0.000000</td>\n",
       "      <td>2177.016307</td>\n",
       "      <td>0.195966</td>\n",
       "      <td>0.313153</td>\n",
       "      <td>0.800000</td>\n",
       "      <td>1</td>\n",
       "    </tr>\n",
       "    <tr>\n",
       "      <th>...</th>\n",
       "      <td>...</td>\n",
       "      <td>...</td>\n",
       "      <td>...</td>\n",
       "      <td>...</td>\n",
       "      <td>...</td>\n",
       "      <td>...</td>\n",
       "    </tr>\n",
       "    <tr>\n",
       "      <th>15523</th>\n",
       "      <td>0.430920</td>\n",
       "      <td>3946.568129</td>\n",
       "      <td>-0.122215</td>\n",
       "      <td>-0.028827</td>\n",
       "      <td>0.155864</td>\n",
       "      <td>0</td>\n",
       "    </tr>\n",
       "    <tr>\n",
       "      <th>15524</th>\n",
       "      <td>0.017810</td>\n",
       "      <td>3988.984833</td>\n",
       "      <td>0.298047</td>\n",
       "      <td>0.319523</td>\n",
       "      <td>0.897928</td>\n",
       "      <td>0</td>\n",
       "    </tr>\n",
       "    <tr>\n",
       "      <th>15525</th>\n",
       "      <td>0.033460</td>\n",
       "      <td>3978.253386</td>\n",
       "      <td>0.282397</td>\n",
       "      <td>0.303873</td>\n",
       "      <td>0.897928</td>\n",
       "      <td>0</td>\n",
       "    </tr>\n",
       "    <tr>\n",
       "      <th>15526</th>\n",
       "      <td>0.061830</td>\n",
       "      <td>3967.719748</td>\n",
       "      <td>0.250360</td>\n",
       "      <td>0.333226</td>\n",
       "      <td>0.858466</td>\n",
       "      <td>0</td>\n",
       "    </tr>\n",
       "    <tr>\n",
       "      <th>15527</th>\n",
       "      <td>0.064313</td>\n",
       "      <td>3957.385501</td>\n",
       "      <td>0.247877</td>\n",
       "      <td>0.330743</td>\n",
       "      <td>0.858466</td>\n",
       "      <td>0</td>\n",
       "    </tr>\n",
       "  </tbody>\n",
       "</table>\n",
       "<p>15528 rows × 6 columns</p>\n",
       "</div>"
      ],
      "text/plain": [
       "            dem   dist2canal  saltwater_max  groundwater_max  gw_duration  \\\n",
       "0      0.491620  2167.071757      -0.313155        -0.065841     0.948087   \n",
       "1      0.236430  2145.367101       0.004312         0.185173     0.890411   \n",
       "2      0.482900  2128.097742      -0.274469        -0.062764     0.920548   \n",
       "3      0.546440  2012.461180      -0.268560        -0.140773     1.000000   \n",
       "4      0.000000  2177.016307       0.195966         0.313153     0.800000   \n",
       "...         ...          ...            ...              ...          ...   \n",
       "15523  0.430920  3946.568129      -0.122215        -0.028827     0.155864   \n",
       "15524  0.017810  3988.984833       0.298047         0.319523     0.897928   \n",
       "15525  0.033460  3978.253386       0.282397         0.303873     0.897928   \n",
       "15526  0.061830  3967.719748       0.250360         0.333226     0.858466   \n",
       "15527  0.064313  3957.385501       0.247877         0.330743     0.858466   \n",
       "\n",
       "       degradation  \n",
       "0                1  \n",
       "1                1  \n",
       "2                1  \n",
       "3                1  \n",
       "4                1  \n",
       "...            ...  \n",
       "15523            0  \n",
       "15524            0  \n",
       "15525            0  \n",
       "15526            0  \n",
       "15527            0  \n",
       "\n",
       "[15528 rows x 6 columns]"
      ]
     },
     "execution_count": 5,
     "metadata": {},
     "output_type": "execute_result"
    }
   ],
   "source": [
    "features"
   ]
  },
  {
   "cell_type": "code",
   "execution_count": 6,
   "metadata": {
    "colab": {
     "base_uri": "https://localhost:8080/"
    },
    "executionInfo": {
     "elapsed": 119,
     "status": "ok",
     "timestamp": 1633367320609,
     "user": {
      "displayName": "keqi he",
      "photoUrl": "https://lh3.googleusercontent.com/a/default-user=s64",
      "userId": "14588499186061235912"
     },
     "user_tz": 240
    },
    "id": "2glaQkjYVVka",
    "outputId": "4f282000-1726-4bed-9f22-71338649f79e"
   },
   "outputs": [
    {
     "data": {
      "text/plain": [
       "0    11640\n",
       "1     3888\n",
       "Name: degradation, dtype: int64"
      ]
     },
     "execution_count": 6,
     "metadata": {},
     "output_type": "execute_result"
    }
   ],
   "source": [
    "features['degradation'].value_counts()"
   ]
  },
  {
   "cell_type": "code",
   "execution_count": 8,
   "metadata": {
    "colab": {
     "base_uri": "https://localhost:8080/"
    },
    "executionInfo": {
     "elapsed": 780,
     "status": "ok",
     "timestamp": 1633367323856,
     "user": {
      "displayName": "keqi he",
      "photoUrl": "https://lh3.googleusercontent.com/a/default-user=s64",
      "userId": "14588499186061235912"
     },
     "user_tz": 240
    },
    "id": "n7Ze3RgpVX83",
    "outputId": "f1c9e3bd-244d-4d8d-cab6-653395339bb6"
   },
   "outputs": [
    {
     "data": {
      "text/plain": [
       "0    11640\n",
       "1    11640\n",
       "Name: degradation, dtype: int64"
      ]
     },
     "execution_count": 8,
     "metadata": {},
     "output_type": "execute_result"
    }
   ],
   "source": [
    "from sklearn.utils import resample\n",
    "\n",
    "df_majority = features[features.degradation==0]\n",
    "df_minority = features[features.degradation==1]\n",
    "\n",
    "df_minority_upsampled = resample(df_minority,\n",
    "                                 replace=True,     # sample with replacement\n",
    "                                 n_samples=11640,   # to match majority class\n",
    "                                 random_state=123) # reproducible results\n",
    "\n",
    "df_upsampled = pd.concat([df_majority, df_minority_upsampled])\n",
    "\n",
    "df_upsampled.degradation.value_counts()"
   ]
  },
  {
   "cell_type": "code",
   "execution_count": 9,
   "metadata": {
    "executionInfo": {
     "elapsed": 184,
     "status": "ok",
     "timestamp": 1633367325275,
     "user": {
      "displayName": "keqi he",
      "photoUrl": "https://lh3.googleusercontent.com/a/default-user=s64",
      "userId": "14588499186061235912"
     },
     "user_tz": 240
    },
    "id": "611ZlkShOAIB"
   },
   "outputs": [],
   "source": [
    "# Use numpy to convert to arrays\n",
    "import numpy as np\n",
    "# Labels are the values we \"want to predict\n",
    "labels = np.array(df_upsampled['degradation'])\n",
    "# Remove the labels from the features\n",
    "# axis 1 refers to the columns\n",
    "df_upsampled= df_upsampled.drop('degradation', axis = 1)\n",
    "# Saving feature names for later use\n",
    "feature_list = list(df_upsampled.columns)\n",
    "# Convert to numpy array\n",
    "features = np.array(df_upsampled)"
   ]
  },
  {
   "cell_type": "code",
   "execution_count": 10,
   "metadata": {
    "colab": {
     "base_uri": "https://localhost:8080/"
    },
    "executionInfo": {
     "elapsed": 228,
     "status": "ok",
     "timestamp": 1633367327219,
     "user": {
      "displayName": "keqi he",
      "photoUrl": "https://lh3.googleusercontent.com/a/default-user=s64",
      "userId": "14588499186061235912"
     },
     "user_tz": 240
    },
    "id": "dR3GjPrnONaX",
    "outputId": "f710b2bc-3d37-4412-a474-ea35326b7f26"
   },
   "outputs": [
    {
     "data": {
      "text/plain": [
       "(23280, 5)"
      ]
     },
     "execution_count": 10,
     "metadata": {},
     "output_type": "execute_result"
    }
   ],
   "source": [
    "features.shape"
   ]
  },
  {
   "cell_type": "code",
   "execution_count": 11,
   "metadata": {
    "executionInfo": {
     "elapsed": 94,
     "status": "ok",
     "timestamp": 1633367328059,
     "user": {
      "displayName": "keqi he",
      "photoUrl": "https://lh3.googleusercontent.com/a/default-user=s64",
      "userId": "14588499186061235912"
     },
     "user_tz": 240
    },
    "id": "JG2LFlVnOdLI"
   },
   "outputs": [],
   "source": [
    "# Using Skicit-learn to split data into training and testing sets\n",
    "from sklearn.model_selection import train_test_split\n",
    "# Split the data into training and testing sets\n",
    "train_features, test_features, train_labels, test_labels = train_test_split(features, labels, test_size = 0.25, random_state = 42)"
   ]
  },
  {
   "cell_type": "code",
   "execution_count": 12,
   "metadata": {
    "colab": {
     "base_uri": "https://localhost:8080/"
    },
    "executionInfo": {
     "elapsed": 79,
     "status": "ok",
     "timestamp": 1633367328906,
     "user": {
      "displayName": "keqi he",
      "photoUrl": "https://lh3.googleusercontent.com/a/default-user=s64",
      "userId": "14588499186061235912"
     },
     "user_tz": 240
    },
    "id": "EL2ME7jWOlUl",
    "outputId": "927016a8-0f46-4d98-f59b-689d6f06a77a"
   },
   "outputs": [
    {
     "name": "stdout",
     "output_type": "stream",
     "text": [
      "Training Features Shape: (17460, 5)\n",
      "Training Labels Shape: (17460,)\n",
      "Testing Features Shape: (5820, 5)\n",
      "Testing Labels Shape: (5820,)\n"
     ]
    }
   ],
   "source": [
    "print('Training Features Shape:', train_features.shape)\n",
    "print('Training Labels Shape:', train_labels.shape)\n",
    "print('Testing Features Shape:', test_features.shape)\n",
    "print('Testing Labels Shape:', test_labels.shape)"
   ]
  },
  {
   "cell_type": "code",
   "execution_count": 13,
   "metadata": {},
   "outputs": [],
   "source": [
    "# Import the model we are using\n",
    "import sklearn.ensemble\n",
    "clf = sklearn.ensemble.RandomForestRegressor(random_state=21)"
   ]
  },
  {
   "cell_type": "code",
   "execution_count": 14,
   "metadata": {},
   "outputs": [],
   "source": [
    "param_grid = {'min_samples_split': [2, 5, 10],\n",
    "              'max_depth': [2, 8, 16],\n",
    "              'max_features': ['sqrt','log2'],\n",
    "              'n_estimators': [10,50,100,500,1000,2000],\n",
    "              'min_samples_leaf': [1, 2, 4]}"
   ]
  },
  {
   "cell_type": "code",
   "execution_count": 15,
   "metadata": {},
   "outputs": [],
   "source": [
    "from sklearn.model_selection import GridSearchCV\n",
    "from sklearn.model_selection import KFold\n",
    "gd_sr = GridSearchCV(estimator=clf,\n",
    "                     param_grid=param_grid,\n",
    "                     scoring='r2',\n",
    "                     cv=KFold(n_splits=3, shuffle=True, random_state=21),\n",
    "                     error_score=\"raise\")"
   ]
  },
  {
   "cell_type": "code",
   "execution_count": 16,
   "metadata": {},
   "outputs": [],
   "source": [
    "import warnings\n",
    "\n",
    "warnings.filterwarnings('ignore')\n",
    "\n",
    "gd_sr_res = gd_sr.fit(train_features, train_labels)"
   ]
  },
  {
   "cell_type": "code",
   "execution_count": 17,
   "metadata": {},
   "outputs": [
    {
     "name": "stdout",
     "output_type": "stream",
     "text": [
      "{'max_depth': 16, 'max_features': 'sqrt', 'min_samples_leaf': 1, 'min_samples_split': 2, 'n_estimators': 1000}\n"
     ]
    }
   ],
   "source": [
    "best_parameters = gd_sr.best_params_\n",
    "print(best_parameters)"
   ]
  },
  {
   "cell_type": "code",
   "execution_count": 18,
   "metadata": {},
   "outputs": [
    {
     "name": "stdout",
     "output_type": "stream",
     "text": [
      "0.8353796758442193\n"
     ]
    }
   ],
   "source": [
    "best_result = gd_sr.best_score_\n",
    "print(best_result)"
   ]
  },
  {
   "cell_type": "code",
   "execution_count": 19,
   "metadata": {
    "id": "xNa2EXzzOq-v"
   },
   "outputs": [],
   "source": [
    "# Import the model we are using\n",
    "import sklearn.ensemble\n",
    "# Instantiate model with 10 decision trees\n",
    "clf = sklearn.ensemble.RandomForestClassifier(n_estimators=1000, random_state=21, min_samples_split = 2,min_samples_leaf = 1, max_depth = 16, max_features = 'sqrt')\n",
    "# Train the model on training data\n",
    "clf = clf.fit(train_features, train_labels);"
   ]
  },
  {
   "cell_type": "code",
   "execution_count": 20,
   "metadata": {
    "colab": {
     "base_uri": "https://localhost:8080/"
    },
    "executionInfo": {
     "elapsed": 860,
     "status": "ok",
     "timestamp": 1623719181160,
     "user": {
      "displayName": "keqi he",
      "photoUrl": "",
      "userId": "14588499186061235912"
     },
     "user_tz": 240
    },
    "id": "n8OsyxpPPaBI",
    "outputId": "d480422d-b5a4-4557-8a54-e49fed3262a8"
   },
   "outputs": [
    {
     "name": "stdout",
     "output_type": "stream",
     "text": [
      "Accuracy: 0.9707903780068728\n"
     ]
    }
   ],
   "source": [
    "# Use the forest's predict method on the test data\n",
    "predictions = clf.predict(test_features)\n",
    "#Assess the accuracy using the validation dataset\n",
    "print('Accuracy:',clf.score(test_features,test_labels))"
   ]
  },
  {
   "cell_type": "code",
   "execution_count": 21,
   "metadata": {
    "colab": {
     "base_uri": "https://localhost:8080/"
    },
    "executionInfo": {
     "elapsed": 113,
     "status": "ok",
     "timestamp": 1623719181271,
     "user": {
      "displayName": "keqi he",
      "photoUrl": "",
      "userId": "14588499186061235912"
     },
     "user_tz": 240
    },
    "id": "Yt7mV4mxSDSr",
    "outputId": "0e749070-7110-4c2d-9648-7b92850bf5b8"
   },
   "outputs": [
    {
     "name": "stdout",
     "output_type": "stream",
     "text": [
      "Variable: dem                  Importance: 0.27\n",
      "Variable: groundwater_max      Importance: 0.22\n",
      "Variable: saltwater_max        Importance: 0.21\n",
      "Variable: dist2canal           Importance: 0.15\n",
      "Variable: gw_duration          Importance: 0.15\n"
     ]
    }
   ],
   "source": [
    "# Get numerical feature importances\n",
    "importances = list(clf.feature_importances_)\n",
    "# List of tuples with variable and importance\n",
    "feature_importances = [(feature, round(importance, 2)) for feature, importance in zip(feature_list, importances)]\n",
    "# Sort the feature importances by most important first\n",
    "feature_importances = sorted(feature_importances, key = lambda x: x[1], reverse = True)\n",
    "# Print out the feature and importances \n",
    "[print('Variable: {:20} Importance: {}'.format(*pair)) for pair in feature_importances];"
   ]
  },
  {
   "cell_type": "code",
   "execution_count": 22,
   "metadata": {
    "colab": {
     "base_uri": "https://localhost:8080/",
     "height": 437
    },
    "executionInfo": {
     "elapsed": 319,
     "status": "ok",
     "timestamp": 1623719181589,
     "user": {
      "displayName": "keqi he",
      "photoUrl": "",
      "userId": "14588499186061235912"
     },
     "user_tz": 240
    },
    "id": "pLC6EPQhSYse",
    "outputId": "93b3bb54-4b15-4651-8c95-29b571bc48e4"
   },
   "outputs": [
    {
     "data": {
      "image/png": "[encoded data removed]",
      "text/plain": [
       "<Figure size 432x288 with 1 Axes>"
      ]
     },
     "metadata": {},
     "output_type": "display_data"
    }
   ],
   "source": [
    "# Import matplotlib for plotting and use magic command for Jupyter Notebooks\n",
    "import matplotlib.pyplot as plt\n",
    "%matplotlib inline\n",
    "# Set the style\n",
    "plt.style.use('fivethirtyeight')\n",
    "# list of x locations for plotting\n",
    "x_values = list(range(len(importances)))\n",
    "# Make a bar chart\n",
    "plt.bar(x_values, importances, orientation = 'vertical')\n",
    "# Tick labels for x axis\n",
    "plt.xticks(x_values, feature_list, rotation='vertical')\n",
    "# Axis labels and title\n",
    "plt.ylabel('Importance'); plt.xlabel('Variable'); plt.title('Variable Importances');"
   ]
  },
  {
   "cell_type": "code",
   "execution_count": 18,
   "metadata": {},
   "outputs": [],
   "source": [
    "from sklearn.inspection import permutation_importance"
   ]
  },
  {
   "cell_type": "code",
   "execution_count": 19,
   "metadata": {},
   "outputs": [],
   "source": [
    "perm_importance = permutation_importance(clf,test_features, test_labels)"
   ]
  },
  {
   "cell_type": "code",
   "execution_count": 25,
   "metadata": {},
   "outputs": [
    {
     "name": "stdout",
     "output_type": "stream",
     "text": [
      "Variable: dem                  Importance: 0.381\n",
      "Variable: groundwater_max      Importance: 0.275\n",
      "Variable: saltwater_max        Importance: 0.268\n",
      "Variable: dist2canal           Importance: 0.111\n",
      "Variable: gw_duration          Importance: 0.103\n"
     ]
    }
   ],
   "source": [
    "# List of tuples with variable and importance\n",
    "feature_importances = [(feature, round(importance, 3)) for feature, importance in zip(feature_list, perm_importance.importances_mean)]\n",
    "# Sort the feature importances by most important first\n",
    "feature_importances = sorted(feature_importances, key = lambda x: x[1], reverse = True)\n",
    "# Print out the feature and importances \n",
    "[print('Variable: {:20} Importance: {}'.format(*pair)) for pair in feature_importances];"
   ]
  },
  {
   "cell_type": "code",
   "execution_count": 22,
   "metadata": {},
   "outputs": [
    {
     "data": {
      "text/plain": [
       "{'importances_mean': array([0.38123711, 0.1109622 , 0.26773196, 0.27477663, 0.10292096]),\n",
       " 'importances_std': array([0.00446127, 0.00222015, 0.00294091, 0.00592562, 0.00152137]),\n",
       " 'importances': array([[0.3790378 , 0.37371134, 0.38453608, 0.3862543 , 0.38264605],\n",
       "        [0.10962199, 0.11357388, 0.10910653, 0.10876289, 0.1137457 ],\n",
       "        [0.26804124, 0.27285223, 0.2652921 , 0.26443299, 0.26804124],\n",
       "        [0.28264605, 0.28006873, 0.26701031, 0.27439863, 0.26975945],\n",
       "        [0.10463918, 0.10103093, 0.104811  , 0.10206186, 0.10206186]])}"
      ]
     },
     "execution_count": 22,
     "metadata": {},
     "output_type": "execute_result"
    }
   ],
   "source": [
    "perm_importance"
   ]
  },
  {
   "cell_type": "code",
   "execution_count": null,
   "metadata": {},
   "outputs": [],
   "source": []
  }
 ],
 "metadata": {
  "colab": {
   "authorship_tag": "ABX9TyPCe98wNcyolf94HN5oJoB6",
   "mount_file_id": "1gJSgHO-s_D8tKskzCEpThndMhpbE8tNL",
   "name": "herb.ipynb",
   "provenance": []
  },
  "kernelspec": {
   "display_name": "Python 3 (ipykernel)",
   "language": "python",
   "name": "python3"
  },
  "language_info": {
   "codemirror_mode": {
    "name": "ipython",
    "version": 3
   },
   "file_extension": ".py",
   "mimetype": "text/x-python",
   "name": "python",
   "nbconvert_exporter": "python",
   "pygments_lexer": "ipython3",
   "version": "3.9.12"
  }
 },
 "nbformat": 4,
 "nbformat_minor": 4
}
