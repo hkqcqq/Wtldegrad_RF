{
 "cells": [
  {
   "cell_type": "code",
   "execution_count": 1,
   "metadata": {
    "colab": {
     "base_uri": "https://localhost:8080/",
     "height": 206
    },
    "executionInfo": {
     "elapsed": 1041,
     "status": "ok",
     "timestamp": 1633367312746,
     "user": {
      "displayName": "keqi he",
      "photoUrl": "https://lh3.googleusercontent.com/a/default-user=s64",
      "userId": "14588499186061235912"
     },
     "user_tz": 240
    },
    "id": "FaCE0mYG57oz",
    "outputId": "0f6783f1-9645-498a-a837-b35d058121f4"
   },
   "outputs": [
    {
     "data": {
      "text/html": [
       "<div>\n",
       "<style scoped>\n",
       "    .dataframe tbody tr th:only-of-type {\n",
       "        vertical-align: middle;\n",
       "    }\n",
       "\n",
       "    .dataframe tbody tr th {\n",
       "        vertical-align: top;\n",
       "    }\n",
       "\n",
       "    .dataframe thead th {\n",
       "        text-align: right;\n",
       "    }\n",
       "</style>\n",
       "<table border=\"1\" class=\"dataframe\">\n",
       "  <thead>\n",
       "    <tr style=\"text-align: right;\">\n",
       "      <th></th>\n",
       "      <th>dem</th>\n",
       "      <th>dist2canal</th>\n",
       "      <th>saltwater_max</th>\n",
       "      <th>groundwater_max</th>\n",
       "      <th>gw_duration</th>\n",
       "      <th>degradation</th>\n",
       "    </tr>\n",
       "  </thead>\n",
       "  <tbody>\n",
       "    <tr>\n",
       "      <th>0</th>\n",
       "      <td>0.49162</td>\n",
       "      <td>2167.071757</td>\n",
       "      <td>-0.313155</td>\n",
       "      <td>-0.065841</td>\n",
       "      <td>0.948087</td>\n",
       "      <td>1</td>\n",
       "    </tr>\n",
       "    <tr>\n",
       "      <th>1</th>\n",
       "      <td>0.23643</td>\n",
       "      <td>2145.367101</td>\n",
       "      <td>0.004312</td>\n",
       "      <td>0.185173</td>\n",
       "      <td>0.890411</td>\n",
       "      <td>1</td>\n",
       "    </tr>\n",
       "    <tr>\n",
       "      <th>2</th>\n",
       "      <td>0.48290</td>\n",
       "      <td>2128.097742</td>\n",
       "      <td>-0.274469</td>\n",
       "      <td>-0.062764</td>\n",
       "      <td>0.920548</td>\n",
       "      <td>1</td>\n",
       "    </tr>\n",
       "    <tr>\n",
       "      <th>3</th>\n",
       "      <td>0.54644</td>\n",
       "      <td>2012.461180</td>\n",
       "      <td>-0.268560</td>\n",
       "      <td>-0.140773</td>\n",
       "      <td>1.000000</td>\n",
       "      <td>1</td>\n",
       "    </tr>\n",
       "    <tr>\n",
       "      <th>4</th>\n",
       "      <td>0.00000</td>\n",
       "      <td>2177.016307</td>\n",
       "      <td>0.195966</td>\n",
       "      <td>0.313153</td>\n",
       "      <td>0.800000</td>\n",
       "      <td>1</td>\n",
       "    </tr>\n",
       "  </tbody>\n",
       "</table>\n",
       "</div>"
      ],
      "text/plain": [
       "       dem   dist2canal  saltwater_max  groundwater_max  gw_duration  \\\n",
       "0  0.49162  2167.071757      -0.313155        -0.065841     0.948087   \n",
       "1  0.23643  2145.367101       0.004312         0.185173     0.890411   \n",
       "2  0.48290  2128.097742      -0.274469        -0.062764     0.920548   \n",
       "3  0.54644  2012.461180      -0.268560        -0.140773     1.000000   \n",
       "4  0.00000  2177.016307       0.195966         0.313153     0.800000   \n",
       "\n",
       "   degradation  \n",
       "0            1  \n",
       "1            1  \n",
       "2            1  \n",
       "3            1  \n",
       "4            1  "
      ]
     },
     "execution_count": 1,
     "metadata": {},
     "output_type": "execute_result"
    }
   ],
   "source": [
    "# Pandas is used for data manipulation\n",
    "import pandas as pd\n",
    "# Read in data and display first 5 rows\n",
    "features = pd.read_csv('herb_nod2s.csv')\n",
    "features.head(5)"
   ]
  },
  {
   "cell_type": "code",
   "execution_count": 2,
   "metadata": {
    "colab": {
     "base_uri": "https://localhost:8080/"
    },
    "executionInfo": {
     "elapsed": 91,
     "status": "ok",
     "timestamp": 1633367314257,
     "user": {
      "displayName": "keqi he",
      "photoUrl": "https://lh3.googleusercontent.com/a/default-user=s64",
      "userId": "14588499186061235912"
     },
     "user_tz": 240
    },
    "id": "y6cW14lCKlko",
    "outputId": "0d09ecd9-86d5-4720-c91a-c7979732a0fc"
   },
   "outputs": [
    {
     "name": "stdout",
     "output_type": "stream",
     "text": [
      "The shape of our features is: (15528, 6)\n"
     ]
    }
   ],
   "source": [
    "print('The shape of our features is:', features.shape)"
   ]
  },
  {
   "cell_type": "code",
   "execution_count": 3,
   "metadata": {
    "colab": {
     "base_uri": "https://localhost:8080/",
     "height": 300
    },
    "executionInfo": {
     "elapsed": 213,
     "status": "ok",
     "timestamp": 1633367315731,
     "user": {
      "displayName": "keqi he",
      "photoUrl": "https://lh3.googleusercontent.com/a/default-user=s64",
      "userId": "14588499186061235912"
     },
     "user_tz": 240
    },
    "id": "rKOwKekgKxsG",
    "outputId": "f8eefb6d-31d8-4652-9b0a-db1ade540714"
   },
   "outputs": [
    {
     "data": {
      "text/html": [
       "<div>\n",
       "<style scoped>\n",
       "    .dataframe tbody tr th:only-of-type {\n",
       "        vertical-align: middle;\n",
       "    }\n",
       "\n",
       "    .dataframe tbody tr th {\n",
       "        vertical-align: top;\n",
       "    }\n",
       "\n",
       "    .dataframe thead th {\n",
       "        text-align: right;\n",
       "    }\n",
       "</style>\n",
       "<table border=\"1\" class=\"dataframe\">\n",
       "  <thead>\n",
       "    <tr style=\"text-align: right;\">\n",
       "      <th></th>\n",
       "      <th>dem</th>\n",
       "      <th>dist2canal</th>\n",
       "      <th>saltwater_max</th>\n",
       "      <th>groundwater_max</th>\n",
       "      <th>gw_duration</th>\n",
       "      <th>degradation</th>\n",
       "    </tr>\n",
       "  </thead>\n",
       "  <tbody>\n",
       "    <tr>\n",
       "      <th>count</th>\n",
       "      <td>15528.000000</td>\n",
       "      <td>15528.000000</td>\n",
       "      <td>15528.000000</td>\n",
       "      <td>15528.000000</td>\n",
       "      <td>15528.000000</td>\n",
       "      <td>15528.000000</td>\n",
       "    </tr>\n",
       "    <tr>\n",
       "      <th>mean</th>\n",
       "      <td>0.301437</td>\n",
       "      <td>1431.671609</td>\n",
       "      <td>-0.096711</td>\n",
       "      <td>0.098355</td>\n",
       "      <td>0.605875</td>\n",
       "      <td>0.250386</td>\n",
       "    </tr>\n",
       "    <tr>\n",
       "      <th>std</th>\n",
       "      <td>0.285728</td>\n",
       "      <td>1049.244565</td>\n",
       "      <td>0.264882</td>\n",
       "      <td>0.193068</td>\n",
       "      <td>0.319432</td>\n",
       "      <td>0.433250</td>\n",
       "    </tr>\n",
       "    <tr>\n",
       "      <th>min</th>\n",
       "      <td>-1.037500</td>\n",
       "      <td>0.000000</td>\n",
       "      <td>-2.271717</td>\n",
       "      <td>-1.619558</td>\n",
       "      <td>0.000000</td>\n",
       "      <td>0.000000</td>\n",
       "    </tr>\n",
       "    <tr>\n",
       "      <th>25%</th>\n",
       "      <td>0.146927</td>\n",
       "      <td>602.992537</td>\n",
       "      <td>-0.225874</td>\n",
       "      <td>-0.018399</td>\n",
       "      <td>0.320548</td>\n",
       "      <td>0.000000</td>\n",
       "    </tr>\n",
       "    <tr>\n",
       "      <th>50%</th>\n",
       "      <td>0.267480</td>\n",
       "      <td>1332.553939</td>\n",
       "      <td>-0.075725</td>\n",
       "      <td>0.100540</td>\n",
       "      <td>0.654101</td>\n",
       "      <td>0.000000</td>\n",
       "    </tr>\n",
       "    <tr>\n",
       "      <th>75%</th>\n",
       "      <td>0.396320</td>\n",
       "      <td>1838.831150</td>\n",
       "      <td>0.073035</td>\n",
       "      <td>0.222079</td>\n",
       "      <td>0.914683</td>\n",
       "      <td>1.000000</td>\n",
       "    </tr>\n",
       "    <tr>\n",
       "      <th>max</th>\n",
       "      <td>2.577700</td>\n",
       "      <td>4857.869904</td>\n",
       "      <td>1.256925</td>\n",
       "      <td>1.353135</td>\n",
       "      <td>1.000000</td>\n",
       "      <td>1.000000</td>\n",
       "    </tr>\n",
       "  </tbody>\n",
       "</table>\n",
       "</div>"
      ],
      "text/plain": [
       "                dem    dist2canal  saltwater_max  groundwater_max  \\\n",
       "count  15528.000000  15528.000000   15528.000000     15528.000000   \n",
       "mean       0.301437   1431.671609      -0.096711         0.098355   \n",
       "std        0.285728   1049.244565       0.264882         0.193068   \n",
       "min       -1.037500      0.000000      -2.271717        -1.619558   \n",
       "25%        0.146927    602.992537      -0.225874        -0.018399   \n",
       "50%        0.267480   1332.553939      -0.075725         0.100540   \n",
       "75%        0.396320   1838.831150       0.073035         0.222079   \n",
       "max        2.577700   4857.869904       1.256925         1.353135   \n",
       "\n",
       "        gw_duration   degradation  \n",
       "count  15528.000000  15528.000000  \n",
       "mean       0.605875      0.250386  \n",
       "std        0.319432      0.433250  \n",
       "min        0.000000      0.000000  \n",
       "25%        0.320548      0.000000  \n",
       "50%        0.654101      0.000000  \n",
       "75%        0.914683      1.000000  \n",
       "max        1.000000      1.000000  "
      ]
     },
     "execution_count": 3,
     "metadata": {},
     "output_type": "execute_result"
    }
   ],
   "source": [
    "# Descriptive statistics for each column\n",
    "features.describe()"
   ]
  },
  {
   "cell_type": "code",
   "execution_count": 4,
   "metadata": {
    "executionInfo": {
     "elapsed": 89,
     "status": "ok",
     "timestamp": 1633367317363,
     "user": {
      "displayName": "keqi he",
      "photoUrl": "https://lh3.googleusercontent.com/a/default-user=s64",
      "userId": "14588499186061235912"
     },
     "user_tz": 240
    },
    "id": "ocllOMhKMLZX"
   },
   "outputs": [],
   "source": [
    "features = pd.DataFrame(features)"
   ]
  },
  {
   "cell_type": "code",
   "execution_count": 5,
   "metadata": {
    "colab": {
     "base_uri": "https://localhost:8080/",
     "height": 424
    },
    "executionInfo": {
     "elapsed": 164,
     "status": "ok",
     "timestamp": 1633367318204,
     "user": {
      "displayName": "keqi he",
      "photoUrl": "https://lh3.googleusercontent.com/a/default-user=s64",
      "userId": "14588499186061235912"
     },
     "user_tz": 240
    },
    "id": "06CPVUPjN1nn",
    "outputId": "7d5dbfac-88cc-4101-92f1-3c978140d443"
   },
   "outputs": [
    {
     "data": {
      "text/html": [
       "<div>\n",
       "<style scoped>\n",
       "    .dataframe tbody tr th:only-of-type {\n",
       "        vertical-align: middle;\n",
       "    }\n",
       "\n",
       "    .dataframe tbody tr th {\n",
       "        vertical-align: top;\n",
       "    }\n",
       "\n",
       "    .dataframe thead th {\n",
       "        text-align: right;\n",
       "    }\n",
       "</style>\n",
       "<table border=\"1\" class=\"dataframe\">\n",
       "  <thead>\n",
       "    <tr style=\"text-align: right;\">\n",
       "      <th></th>\n",
       "      <th>dem</th>\n",
       "      <th>dist2canal</th>\n",
       "      <th>saltwater_max</th>\n",
       "      <th>groundwater_max</th>\n",
       "      <th>gw_duration</th>\n",
       "      <th>degradation</th>\n",
       "    </tr>\n",
       "  </thead>\n",
       "  <tbody>\n",
       "    <tr>\n",
       "      <th>0</th>\n",
       "      <td>0.491620</td>\n",
       "      <td>2167.071757</td>\n",
       "      <td>-0.313155</td>\n",
       "      <td>-0.065841</td>\n",
       "      <td>0.948087</td>\n",
       "      <td>1</td>\n",
       "    </tr>\n",
       "    <tr>\n",
       "      <th>1</th>\n",
       "      <td>0.236430</td>\n",
       "      <td>2145.367101</td>\n",
       "      <td>0.004312</td>\n",
       "      <td>0.185173</td>\n",
       "      <td>0.890411</td>\n",
       "      <td>1</td>\n",
       "    </tr>\n",
       "    <tr>\n",
       "      <th>2</th>\n",
       "      <td>0.482900</td>\n",
       "      <td>2128.097742</td>\n",
       "      <td>-0.274469</td>\n",
       "      <td>-0.062764</td>\n",
       "      <td>0.920548</td>\n",
       "      <td>1</td>\n",
       "    </tr>\n",
       "    <tr>\n",
       "      <th>3</th>\n",
       "      <td>0.546440</td>\n",
       "      <td>2012.461180</td>\n",
       "      <td>-0.268560</td>\n",
       "      <td>-0.140773</td>\n",
       "      <td>1.000000</td>\n",
       "      <td>1</td>\n",
       "    </tr>\n",
       "    <tr>\n",
       "      <th>4</th>\n",
       "      <td>0.000000</td>\n",
       "      <td>2177.016307</td>\n",
       "      <td>0.195966</td>\n",
       "      <td>0.313153</td>\n",
       "      <td>0.800000</td>\n",
       "      <td>1</td>\n",
       "    </tr>\n",
       "    <tr>\n",
       "      <th>...</th>\n",
       "      <td>...</td>\n",
       "      <td>...</td>\n",
       "      <td>...</td>\n",
       "      <td>...</td>\n",
       "      <td>...</td>\n",
       "      <td>...</td>\n",
       "    </tr>\n",
       "    <tr>\n",
       "      <th>15523</th>\n",
       "      <td>0.430920</td>\n",
       "      <td>3946.568129</td>\n",
       "      <td>-0.122215</td>\n",
       "      <td>-0.028827</td>\n",
       "      <td>0.155864</td>\n",
       "      <td>0</td>\n",
       "    </tr>\n",
       "    <tr>\n",
       "      <th>15524</th>\n",
       "      <td>0.017810</td>\n",
       "      <td>3988.984833</td>\n",
       "      <td>0.298047</td>\n",
       "      <td>0.319523</td>\n",
       "      <td>0.897928</td>\n",
       "      <td>0</td>\n",
       "    </tr>\n",
       "    <tr>\n",
       "      <th>15525</th>\n",
       "      <td>0.033460</td>\n",
       "      <td>3978.253386</td>\n",
       "      <td>0.282397</td>\n",
       "      <td>0.303873</td>\n",
       "      <td>0.897928</td>\n",
       "      <td>0</td>\n",
       "    </tr>\n",
       "    <tr>\n",
       "      <th>15526</th>\n",
       "      <td>0.061830</td>\n",
       "      <td>3967.719748</td>\n",
       "      <td>0.250360</td>\n",
       "      <td>0.333226</td>\n",
       "      <td>0.858466</td>\n",
       "      <td>0</td>\n",
       "    </tr>\n",
       "    <tr>\n",
       "      <th>15527</th>\n",
       "      <td>0.064313</td>\n",
       "      <td>3957.385501</td>\n",
       "      <td>0.247877</td>\n",
       "      <td>0.330743</td>\n",
       "      <td>0.858466</td>\n",
       "      <td>0</td>\n",
       "    </tr>\n",
       "  </tbody>\n",
       "</table>\n",
       "<p>15528 rows × 6 columns</p>\n",
       "</div>"
      ],
      "text/plain": [
       "            dem   dist2canal  saltwater_max  groundwater_max  gw_duration  \\\n",
       "0      0.491620  2167.071757      -0.313155        -0.065841     0.948087   \n",
       "1      0.236430  2145.367101       0.004312         0.185173     0.890411   \n",
       "2      0.482900  2128.097742      -0.274469        -0.062764     0.920548   \n",
       "3      0.546440  2012.461180      -0.268560        -0.140773     1.000000   \n",
       "4      0.000000  2177.016307       0.195966         0.313153     0.800000   \n",
       "...         ...          ...            ...              ...          ...   \n",
       "15523  0.430920  3946.568129      -0.122215        -0.028827     0.155864   \n",
       "15524  0.017810  3988.984833       0.298047         0.319523     0.897928   \n",
       "15525  0.033460  3978.253386       0.282397         0.303873     0.897928   \n",
       "15526  0.061830  3967.719748       0.250360         0.333226     0.858466   \n",
       "15527  0.064313  3957.385501       0.247877         0.330743     0.858466   \n",
       "\n",
       "       degradation  \n",
       "0                1  \n",
       "1                1  \n",
       "2                1  \n",
       "3                1  \n",
       "4                1  \n",
       "...            ...  \n",
       "15523            0  \n",
       "15524            0  \n",
       "15525            0  \n",
       "15526            0  \n",
       "15527            0  \n",
       "\n",
       "[15528 rows x 6 columns]"
      ]
     },
     "execution_count": 5,
     "metadata": {},
     "output_type": "execute_result"
    }
   ],
   "source": [
    "features"
   ]
  },
  {
   "cell_type": "code",
   "execution_count": 6,
   "metadata": {
    "colab": {
     "base_uri": "https://localhost:8080/"
    },
    "executionInfo": {
     "elapsed": 119,
     "status": "ok",
     "timestamp": 1633367320609,
     "user": {
      "displayName": "keqi he",
      "photoUrl": "https://lh3.googleusercontent.com/a/default-user=s64",
      "userId": "14588499186061235912"
     },
     "user_tz": 240
    },
    "id": "2glaQkjYVVka",
    "outputId": "4f282000-1726-4bed-9f22-71338649f79e"
   },
   "outputs": [
    {
     "data": {
      "text/plain": [
       "0    11640\n",
       "1     3888\n",
       "Name: degradation, dtype: int64"
      ]
     },
     "execution_count": 6,
     "metadata": {},
     "output_type": "execute_result"
    }
   ],
   "source": [
    "features['degradation'].value_counts()"
   ]
  },
  {
   "cell_type": "code",
   "execution_count": 7,
   "metadata": {
    "colab": {
     "base_uri": "https://localhost:8080/"
    },
    "executionInfo": {
     "elapsed": 780,
     "status": "ok",
     "timestamp": 1633367323856,
     "user": {
      "displayName": "keqi he",
      "photoUrl": "https://lh3.googleusercontent.com/a/default-user=s64",
      "userId": "14588499186061235912"
     },
     "user_tz": 240
    },
    "id": "n7Ze3RgpVX83",
    "outputId": "f1c9e3bd-244d-4d8d-cab6-653395339bb6"
   },
   "outputs": [
    {
     "data": {
      "text/plain": [
       "0    11640\n",
       "1    11640\n",
       "Name: degradation, dtype: int64"
      ]
     },
     "execution_count": 7,
     "metadata": {},
     "output_type": "execute_result"
    }
   ],
   "source": [
    "from sklearn.utils import resample\n",
    "#  分离多数和少数类别\n",
    "df_majority = features[features.degradation==0]\n",
    "df_minority = features[features.degradation==1]\n",
    "\n",
    "# 上采样少数类别\n",
    "df_minority_upsampled = resample(df_minority,\n",
    "                                 replace=True,     # sample with replacement\n",
    "                                 n_samples=11640,   # to match majority class\n",
    "                                 random_state=123) # reproducible results\n",
    "\n",
    "# 合并多数类别同上采样过的少数类别\n",
    "df_upsampled = pd.concat([df_majority, df_minority_upsampled])\n",
    "\n",
    "# 显示新的类别数量\n",
    "df_upsampled.degradation.value_counts()"
   ]
  },
  {
   "cell_type": "code",
   "execution_count": 8,
   "metadata": {
    "executionInfo": {
     "elapsed": 184,
     "status": "ok",
     "timestamp": 1633367325275,
     "user": {
      "displayName": "keqi he",
      "photoUrl": "https://lh3.googleusercontent.com/a/default-user=s64",
      "userId": "14588499186061235912"
     },
     "user_tz": 240
    },
    "id": "611ZlkShOAIB"
   },
   "outputs": [],
   "source": [
    "# Use numpy to convert to arrays\n",
    "import numpy as np\n",
    "# Labels are the values we \"want to predict\n",
    "labels = np.array(df_upsampled['degradation'])\n",
    "# Remove the labels from the features\n",
    "# axis 1 refers to the columns\n",
    "df_upsampled= df_upsampled.drop('degradation', axis = 1)\n",
    "# Saving feature names for later use\n",
    "feature_list = list(df_upsampled.columns)\n",
    "# Convert to numpy array\n",
    "features = np.array(df_upsampled)"
   ]
  },
  {
   "cell_type": "code",
   "execution_count": 9,
   "metadata": {
    "colab": {
     "base_uri": "https://localhost:8080/"
    },
    "executionInfo": {
     "elapsed": 228,
     "status": "ok",
     "timestamp": 1633367327219,
     "user": {
      "displayName": "keqi he",
      "photoUrl": "https://lh3.googleusercontent.com/a/default-user=s64",
      "userId": "14588499186061235912"
     },
     "user_tz": 240
    },
    "id": "dR3GjPrnONaX",
    "outputId": "f710b2bc-3d37-4412-a474-ea35326b7f26"
   },
   "outputs": [
    {
     "data": {
      "text/plain": [
       "(23280, 5)"
      ]
     },
     "execution_count": 9,
     "metadata": {},
     "output_type": "execute_result"
    }
   ],
   "source": [
    "features.shape"
   ]
  },
  {
   "cell_type": "code",
   "execution_count": 10,
   "metadata": {
    "executionInfo": {
     "elapsed": 94,
     "status": "ok",
     "timestamp": 1633367328059,
     "user": {
      "displayName": "keqi he",
      "photoUrl": "https://lh3.googleusercontent.com/a/default-user=s64",
      "userId": "14588499186061235912"
     },
     "user_tz": 240
    },
    "id": "JG2LFlVnOdLI"
   },
   "outputs": [],
   "source": [
    "# Using Skicit-learn to split data into training and testing sets\n",
    "from sklearn.model_selection import train_test_split\n",
    "# Split the data into training and testing sets\n",
    "train_features, test_features, train_labels, test_labels = train_test_split(features, labels, test_size = 0.25, random_state = 42)"
   ]
  },
  {
   "cell_type": "code",
   "execution_count": 11,
   "metadata": {
    "colab": {
     "base_uri": "https://localhost:8080/"
    },
    "executionInfo": {
     "elapsed": 79,
     "status": "ok",
     "timestamp": 1633367328906,
     "user": {
      "displayName": "keqi he",
      "photoUrl": "https://lh3.googleusercontent.com/a/default-user=s64",
      "userId": "14588499186061235912"
     },
     "user_tz": 240
    },
    "id": "EL2ME7jWOlUl",
    "outputId": "927016a8-0f46-4d98-f59b-689d6f06a77a"
   },
   "outputs": [
    {
     "name": "stdout",
     "output_type": "stream",
     "text": [
      "Training Features Shape: (17460, 5)\n",
      "Training Labels Shape: (17460,)\n",
      "Testing Features Shape: (5820, 5)\n",
      "Testing Labels Shape: (5820,)\n"
     ]
    }
   ],
   "source": [
    "print('Training Features Shape:', train_features.shape)\n",
    "print('Training Labels Shape:', train_labels.shape)\n",
    "print('Testing Features Shape:', test_features.shape)\n",
    "print('Testing Labels Shape:', test_labels.shape)"
   ]
  },
  {
   "cell_type": "code",
   "execution_count": 12,
   "metadata": {
    "colab": {
     "base_uri": "https://localhost:8080/"
    },
    "executionInfo": {
     "elapsed": 95,
     "status": "ok",
     "timestamp": 1633367330692,
     "user": {
      "displayName": "keqi he",
      "photoUrl": "https://lh3.googleusercontent.com/a/default-user=s64",
      "userId": "14588499186061235912"
     },
     "user_tz": 240
    },
    "id": "skrmz7dQRUqV",
    "outputId": "22703406-f506-4038-8025-c8b1b5297c13"
   },
   "outputs": [
    {
     "name": "stdout",
     "output_type": "stream",
     "text": [
      "这个值：0出现的次数最多，为8733次\n"
     ]
    }
   ],
   "source": [
    "from collections import Counter\n",
    "d = Counter(train_labels)\n",
    "d_s = sorted(d.items(),key=lambda x:x[1],reverse=True)\n",
    "print(f'这个值：{d_s[0][0]}出现的次数最多，为{d_s[0][1]}次')"
   ]
  },
  {
   "cell_type": "code",
   "execution_count": 13,
   "metadata": {
    "colab": {
     "base_uri": "https://localhost:8080/"
    },
    "executionInfo": {
     "elapsed": 190876,
     "status": "ok",
     "timestamp": 1621624204121,
     "user": {
      "displayName": "keqi he",
      "photoUrl": "",
      "userId": "14588499186061235912"
     },
     "user_tz": 240
    },
    "id": "bepvfUHLSwrz",
    "outputId": "7889193f-9aef-4ff2-dbec-283125a1a079"
   },
   "outputs": [
    {
     "name": "stdout",
     "output_type": "stream",
     "text": [
      "Accuracy: 0.9548109965635739\n",
      "Accuracy: 0.9654639175257732\n",
      "Accuracy: 0.9756013745704467\n",
      "Accuracy: 0.9731958762886598\n",
      "Accuracy: 0.9733676975945017\n",
      "Accuracy: 0.9740549828178694\n",
      "Accuracy: 0.974914089347079\n",
      "Accuracy: 0.9747422680412371\n",
      "Accuracy: 0.9737113402061855\n",
      "Accuracy: 0.9740549828178694\n",
      "Accuracy: 0.9737113402061855\n",
      "Accuracy: 0.9738831615120275\n",
      "Accuracy: 0.9738831615120275\n",
      "Accuracy: 0.9737113402061855\n",
      "Accuracy: 0.9735395189003436\n",
      "Accuracy: 0.9740549828178694\n",
      "Accuracy: 0.9735395189003436\n",
      "Accuracy: 0.9737113402061855\n",
      "Accuracy: 0.9740549828178694\n"
     ]
    }
   ],
   "source": [
    "# Import the model we are using\n",
    "import sklearn.ensemble\n",
    "# Instantiate model with 3 decision trees\n",
    "clf1 = sklearn.ensemble.RandomForestClassifier(n_estimators=3, random_state=21)\n",
    "clf1 = clf1.fit(train_features, train_labels);\n",
    "acc1 = clf1.score(test_features,test_labels)\n",
    "print('Accuracy:',clf1.score(test_features,test_labels))\n",
    "\n",
    "# Instantiate model with 5 decision trees\n",
    "clf2 = sklearn.ensemble.RandomForestClassifier(n_estimators=5, random_state=21)\n",
    "clf2 = clf2.fit(train_features, train_labels);\n",
    "acc2 = clf2.score(test_features,test_labels)\n",
    "print('Accuracy:',clf2.score(test_features,test_labels))\n",
    "\n",
    "# Instantiate model with 10 decision trees\n",
    "clf3 = sklearn.ensemble.RandomForestClassifier(n_estimators=10, random_state=21)\n",
    "clf3 = clf3.fit(train_features, train_labels);\n",
    "acc3 = clf3.score(test_features,test_labels)\n",
    "print('Accuracy:',clf3.score(test_features,test_labels))\n",
    "\n",
    "# Instantiate model with 20 decision trees\n",
    "clf4 = sklearn.ensemble.RandomForestClassifier(n_estimators=20, random_state=21)\n",
    "clf4 = clf4.fit(train_features, train_labels);\n",
    "acc4 = clf4.score(test_features,test_labels)\n",
    "print('Accuracy:',clf4.score(test_features,test_labels))\n",
    "\n",
    "# Instantiate model with 30 decision trees\n",
    "clf5 = sklearn.ensemble.RandomForestClassifier(n_estimators=30, random_state=21)\n",
    "clf5 = clf5.fit(train_features, train_labels);\n",
    "acc5 = clf5.score(test_features,test_labels)\n",
    "print('Accuracy:',clf5.score(test_features,test_labels))\n",
    "\n",
    "# Instantiate model with 40 decision trees\n",
    "clf6 = sklearn.ensemble.RandomForestClassifier(n_estimators=40, random_state=21)\n",
    "clf6 = clf6.fit(train_features, train_labels);\n",
    "acc6 = clf6.score(test_features,test_labels)\n",
    "print('Accuracy:',clf6.score(test_features,test_labels))\n",
    "\n",
    "# Instantiate model with 50 decision trees\n",
    "clf7 = sklearn.ensemble.RandomForestClassifier(n_estimators=50, random_state=21)\n",
    "clf7 = clf7.fit(train_features, train_labels);\n",
    "acc7 = clf7.score(test_features,test_labels)\n",
    "print('Accuracy:',clf7.score(test_features,test_labels))\n",
    "\n",
    "# Instantiate model with 60 decision trees\n",
    "clf8 = sklearn.ensemble.RandomForestClassifier(n_estimators=60, random_state=21)\n",
    "clf8 = clf8.fit(train_features, train_labels);\n",
    "acc8 = clf8.score(test_features,test_labels)\n",
    "print('Accuracy:',clf8.score(test_features,test_labels))\n",
    "\n",
    "# Instantiate model with 70 decision trees\n",
    "clf9 = sklearn.ensemble.RandomForestClassifier(n_estimators=70, random_state=21)\n",
    "clf9 = clf9.fit(train_features, train_labels);\n",
    "acc9 = clf9.score(test_features,test_labels)\n",
    "print('Accuracy:',clf9.score(test_features,test_labels))\n",
    "\n",
    "# Instantiate model with 80 decision trees\n",
    "clf10 = sklearn.ensemble.RandomForestClassifier(n_estimators=80, random_state=21)\n",
    "clf10 = clf10.fit(train_features, train_labels);\n",
    "acc10 = clf10.score(test_features,test_labels)\n",
    "print('Accuracy:',clf10.score(test_features,test_labels))\n",
    "\n",
    "# Instantiate model with 90 decision trees\n",
    "clf11 = sklearn.ensemble.RandomForestClassifier(n_estimators=90, random_state=21)\n",
    "clf11 = clf11.fit(train_features, train_labels);\n",
    "acc11 = clf11.score(test_features,test_labels)\n",
    "print('Accuracy:',clf11.score(test_features,test_labels))\n",
    "\n",
    "# Instantiate model with 100 decision trees\n",
    "clf12 = sklearn.ensemble.RandomForestClassifier(n_estimators=100, random_state=21)\n",
    "clf12 = clf12.fit(train_features, train_labels);\n",
    "acc12 = clf12.score(test_features,test_labels)\n",
    "print('Accuracy:',clf12.score(test_features,test_labels))\n",
    "\n",
    "# Instantiate model with 200 decision trees\n",
    "clf13 = sklearn.ensemble.RandomForestClassifier(n_estimators=200, random_state=21)\n",
    "clf13 = clf13.fit(train_features, train_labels);\n",
    "acc13 = clf13.score(test_features,test_labels)\n",
    "print('Accuracy:',clf13.score(test_features,test_labels))\n",
    "\n",
    "# Instantiate model with 300 decision trees\n",
    "clf14 = sklearn.ensemble.RandomForestClassifier(n_estimators=300, random_state=21)\n",
    "clf14 = clf14.fit(train_features, train_labels);\n",
    "acc14 = clf14.score(test_features,test_labels)\n",
    "print('Accuracy:',clf14.score(test_features,test_labels))\n",
    "\n",
    "# Instantiate model with 400 decision trees\n",
    "clf15 = sklearn.ensemble.RandomForestClassifier(n_estimators=400, random_state=21)\n",
    "clf15 = clf15.fit(train_features, train_labels);\n",
    "acc15 = clf15.score(test_features,test_labels)\n",
    "print('Accuracy:',clf15.score(test_features,test_labels))\n",
    "\n",
    "# Instantiate model with 500 decision trees\n",
    "clf16 = sklearn.ensemble.RandomForestClassifier(n_estimators=500, random_state=21)\n",
    "clf16 = clf16.fit(train_features, train_labels);\n",
    "acc16 = clf16.score(test_features,test_labels)\n",
    "print('Accuracy:',clf16.score(test_features,test_labels))\n",
    "\n",
    "# Instantiate model with 1000 decision trees\n",
    "clf17 = sklearn.ensemble.RandomForestClassifier(n_estimators=1000, random_state=21)\n",
    "clf17 = clf17.fit(train_features, train_labels);\n",
    "acc17 = clf17.score(test_features,test_labels)\n",
    "print('Accuracy:',clf17.score(test_features,test_labels))\n",
    "\n",
    "# Instantiate model with 1500 decision trees\n",
    "clf18 = sklearn.ensemble.RandomForestClassifier(n_estimators=1500, random_state=21)\n",
    "clf18 = clf18.fit(train_features, train_labels);\n",
    "acc18 = clf18.score(test_features,test_labels)\n",
    "print('Accuracy:',clf18.score(test_features,test_labels))\n",
    "\n",
    "# Instantiate model with 2000 decision trees\n",
    "clf19 = sklearn.ensemble.RandomForestClassifier(n_estimators=2000, random_state=21)\n",
    "clf19 = clf19.fit(train_features, train_labels);\n",
    "acc19 = clf19.score(test_features,test_labels)\n",
    "print('Accuracy:',clf19.score(test_features,test_labels))"
   ]
  },
  {
   "cell_type": "code",
   "execution_count": 14,
   "metadata": {
    "colab": {
     "base_uri": "https://localhost:8080/",
     "height": 360
    },
    "executionInfo": {
     "elapsed": 456,
     "status": "ok",
     "timestamp": 1621625860958,
     "user": {
      "displayName": "keqi he",
      "photoUrl": "",
      "userId": "14588499186061235912"
     },
     "user_tz": 240
    },
    "id": "nfV4IwXiSxBj",
    "outputId": "8508ec91-ba12-4fbb-f1ea-cfc1c95887e7"
   },
   "outputs": [
    {
     "data": {
      "image/png": "[encoded data removed]",
      "text/plain": [
       "<Figure size 1440x360 with 1 Axes>"
      ]
     },
     "metadata": {
      "needs_background": "light"
     },
     "output_type": "display_data"
    }
   ],
   "source": [
    "# Import matplotlib for plotting and use magic command for Jupyter Notebooks\n",
    "import matplotlib.pyplot as plt\n",
    "%matplotlib inline\n",
    "x = [1,2,3,4,5,6,7,8,9,10,11,12,13,14,15,16,17,18,19]\n",
    "y = [acc1, acc2, acc3, acc4, acc5, acc6, acc7, acc8, acc9, acc10, acc11, acc12, acc13, acc14, acc15, acc16, acc17, acc18, acc19]\n",
    "plt.figure(figsize = (20, 5)) \n",
    "plt.plot(x,y,'s-',color = 'r')\n",
    "plt.xlabel(\"The number of forests\", fontdict={'size':25})#横坐标名字\n",
    "plt.ylabel(\"Accuracy\", fontdict={'size':25})#纵坐标名字\n",
    "plt.xticks(x, ('3','5','10','20','30','40','50','60','70','80','90','100','200','300','400','500','1000', '1500', '2000'), size=20)\n",
    "plt.yticks(size = 20)\n",
    "plt.grid()\n",
    "plt.show()"
   ]
  },
  {
   "cell_type": "code",
   "execution_count": 15,
   "metadata": {
    "id": "xNa2EXzzOq-v"
   },
   "outputs": [],
   "source": [
    "# Import the model we are using\n",
    "import sklearn.ensemble\n",
    "# Instantiate model with 10 decision trees\n",
    "clf = sklearn.ensemble.RandomForestClassifier(n_estimators=10, random_state=21)\n",
    "# Train the model on training data\n",
    "clf = clf.fit(train_features, train_labels);"
   ]
  },
  {
   "cell_type": "code",
   "execution_count": 16,
   "metadata": {
    "colab": {
     "base_uri": "https://localhost:8080/"
    },
    "executionInfo": {
     "elapsed": 860,
     "status": "ok",
     "timestamp": 1623719181160,
     "user": {
      "displayName": "keqi he",
      "photoUrl": "",
      "userId": "14588499186061235912"
     },
     "user_tz": 240
    },
    "id": "n8OsyxpPPaBI",
    "outputId": "d480422d-b5a4-4557-8a54-e49fed3262a8"
   },
   "outputs": [
    {
     "name": "stdout",
     "output_type": "stream",
     "text": [
      "Accuracy: 0.9756013745704467\n"
     ]
    }
   ],
   "source": [
    "# Use the forest's predict method on the test data\n",
    "predictions = clf.predict(test_features)\n",
    "#Assess the accuracy using the validation dataset\n",
    "print('Accuracy:',clf.score(test_features,test_labels))"
   ]
  },
  {
   "cell_type": "code",
   "execution_count": 17,
   "metadata": {
    "colab": {
     "base_uri": "https://localhost:8080/"
    },
    "executionInfo": {
     "elapsed": 113,
     "status": "ok",
     "timestamp": 1623719181271,
     "user": {
      "displayName": "keqi he",
      "photoUrl": "",
      "userId": "14588499186061235912"
     },
     "user_tz": 240
    },
    "id": "Yt7mV4mxSDSr",
    "outputId": "0e749070-7110-4c2d-9648-7b92850bf5b8"
   },
   "outputs": [
    {
     "name": "stdout",
     "output_type": "stream",
     "text": [
      "Variable: dem                  Importance: 0.26\n",
      "Variable: groundwater_max      Importance: 0.23\n",
      "Variable: saltwater_max        Importance: 0.2\n",
      "Variable: gw_duration          Importance: 0.16\n",
      "Variable: dist2canal           Importance: 0.15\n"
     ]
    }
   ],
   "source": [
    "# Get numerical feature importances\n",
    "importances = list(clf.feature_importances_)\n",
    "# List of tuples with variable and importance\n",
    "feature_importances = [(feature, round(importance, 2)) for feature, importance in zip(feature_list, importances)]\n",
    "# Sort the feature importances by most important first\n",
    "feature_importances = sorted(feature_importances, key = lambda x: x[1], reverse = True)\n",
    "# Print out the feature and importances \n",
    "[print('Variable: {:20} Importance: {}'.format(*pair)) for pair in feature_importances];"
   ]
  },
  {
   "cell_type": "code",
   "execution_count": 18,
   "metadata": {
    "colab": {
     "base_uri": "https://localhost:8080/",
     "height": 437
    },
    "executionInfo": {
     "elapsed": 319,
     "status": "ok",
     "timestamp": 1623719181589,
     "user": {
      "displayName": "keqi he",
      "photoUrl": "",
      "userId": "14588499186061235912"
     },
     "user_tz": 240
    },
    "id": "pLC6EPQhSYse",
    "outputId": "93b3bb54-4b15-4651-8c95-29b571bc48e4"
   },
   "outputs": [
    {
     "data": {
      "image/png": "[encoded data removed]",
      "text/plain": [
       "<Figure size 432x288 with 1 Axes>"
      ]
     },
     "metadata": {},
     "output_type": "display_data"
    }
   ],
   "source": [
    "# Import matplotlib for plotting and use magic command for Jupyter Notebooks\n",
    "import matplotlib.pyplot as plt\n",
    "%matplotlib inline\n",
    "# Set the style\n",
    "plt.style.use('fivethirtyeight')\n",
    "# list of x locations for plotting\n",
    "x_values = list(range(len(importances)))\n",
    "# Make a bar chart\n",
    "plt.bar(x_values, importances, orientation = 'vertical')\n",
    "# Tick labels for x axis\n",
    "plt.xticks(x_values, feature_list, rotation='vertical')\n",
    "# Axis labels and title\n",
    "plt.ylabel('Importance'); plt.xlabel('Variable'); plt.title('Variable Importances');"
   ]
  },
  {
   "cell_type": "code",
   "execution_count": null,
   "metadata": {},
   "outputs": [],
   "source": []
  }
 ],
 "metadata": {
  "colab": {
   "authorship_tag": "ABX9TyPCe98wNcyolf94HN5oJoB6",
   "mount_file_id": "1gJSgHO-s_D8tKskzCEpThndMhpbE8tNL",
   "name": "herb.ipynb",
   "provenance": []
  },
  "kernelspec": {
   "display_name": "Python 3 (ipykernel)",
   "language": "python",
   "name": "python3"
  },
  "language_info": {
   "codemirror_mode": {
    "name": "ipython",
    "version": 3
   },
   "file_extension": ".py",
   "mimetype": "text/x-python",
   "name": "python",
   "nbconvert_exporter": "python",
   "pygments_lexer": "ipython3",
   "version": "3.9.12"
  }
 },
 "nbformat": 4,
 "nbformat_minor": 4
}
