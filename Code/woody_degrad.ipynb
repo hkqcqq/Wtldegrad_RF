{
 "cells": [
  {
   "cell_type": "code",
   "execution_count": 1,
   "metadata": {
    "colab": {
     "base_uri": "https://localhost:8080/",
     "height": 206
    },
    "executionInfo": {
     "elapsed": 414,
     "status": "ok",
     "timestamp": 1633366983314,
     "user": {
      "displayName": "keqi he",
      "photoUrl": "https://lh3.googleusercontent.com/a/default-user=s64",
      "userId": "14588499186061235912"
     },
     "user_tz": 240
    },
    "id": "vh5U-vuXyQXq",
    "outputId": "45af3c69-9bc8-4e84-cc80-1347b9d501cc"
   },
   "outputs": [
    {
     "data": {
      "text/html": [
       "<div>\n",
       "<style scoped>\n",
       "    .dataframe tbody tr th:only-of-type {\n",
       "        vertical-align: middle;\n",
       "    }\n",
       "\n",
       "    .dataframe tbody tr th {\n",
       "        vertical-align: top;\n",
       "    }\n",
       "\n",
       "    .dataframe thead th {\n",
       "        text-align: right;\n",
       "    }\n",
       "</style>\n",
       "<table border=\"1\" class=\"dataframe\">\n",
       "  <thead>\n",
       "    <tr style=\"text-align: right;\">\n",
       "      <th></th>\n",
       "      <th>dem</th>\n",
       "      <th>dist2canal</th>\n",
       "      <th>saltwater_max</th>\n",
       "      <th>groundwater_max</th>\n",
       "      <th>gw_duration</th>\n",
       "      <th>degradation</th>\n",
       "    </tr>\n",
       "  </thead>\n",
       "  <tbody>\n",
       "    <tr>\n",
       "      <th>0</th>\n",
       "      <td>0.38054</td>\n",
       "      <td>1471.223980</td>\n",
       "      <td>-0.219789</td>\n",
       "      <td>-0.004625</td>\n",
       "      <td>1.000000</td>\n",
       "      <td>1</td>\n",
       "    </tr>\n",
       "    <tr>\n",
       "      <th>1</th>\n",
       "      <td>0.23622</td>\n",
       "      <td>1500.299970</td>\n",
       "      <td>-0.071583</td>\n",
       "      <td>0.123283</td>\n",
       "      <td>1.000000</td>\n",
       "      <td>1</td>\n",
       "    </tr>\n",
       "    <tr>\n",
       "      <th>2</th>\n",
       "      <td>0.33377</td>\n",
       "      <td>1530.294089</td>\n",
       "      <td>-0.169133</td>\n",
       "      <td>0.025733</td>\n",
       "      <td>1.000000</td>\n",
       "      <td>1</td>\n",
       "    </tr>\n",
       "    <tr>\n",
       "      <th>3</th>\n",
       "      <td>0.47378</td>\n",
       "      <td>1560.288435</td>\n",
       "      <td>-0.307434</td>\n",
       "      <td>-0.192245</td>\n",
       "      <td>0.986301</td>\n",
       "      <td>1</td>\n",
       "    </tr>\n",
       "    <tr>\n",
       "      <th>4</th>\n",
       "      <td>0.34838</td>\n",
       "      <td>1500.000000</td>\n",
       "      <td>-0.188293</td>\n",
       "      <td>0.090398</td>\n",
       "      <td>0.920548</td>\n",
       "      <td>1</td>\n",
       "    </tr>\n",
       "  </tbody>\n",
       "</table>\n",
       "</div>"
      ],
      "text/plain": [
       "       dem   dist2canal  saltwater_max  groundwater_max  gw_duration  \\\n",
       "0  0.38054  1471.223980      -0.219789        -0.004625     1.000000   \n",
       "1  0.23622  1500.299970      -0.071583         0.123283     1.000000   \n",
       "2  0.33377  1530.294089      -0.169133         0.025733     1.000000   \n",
       "3  0.47378  1560.288435      -0.307434        -0.192245     0.986301   \n",
       "4  0.34838  1500.000000      -0.188293         0.090398     0.920548   \n",
       "\n",
       "   degradation  \n",
       "0            1  \n",
       "1            1  \n",
       "2            1  \n",
       "3            1  \n",
       "4            1  "
      ]
     },
     "execution_count": 1,
     "metadata": {},
     "output_type": "execute_result"
    }
   ],
   "source": [
    "# Pandas is used for data manipulation\n",
    "import pandas as pd\n",
    "# Read in data and display first 5 rows\n",
    "features = pd.read_csv('woody_degrad.csv')\n",
    "features.head(5)"
   ]
  },
  {
   "cell_type": "code",
   "execution_count": 2,
   "metadata": {
    "colab": {
     "base_uri": "https://localhost:8080/"
    },
    "executionInfo": {
     "elapsed": 116,
     "status": "ok",
     "timestamp": 1633366985293,
     "user": {
      "displayName": "keqi he",
      "photoUrl": "https://lh3.googleusercontent.com/a/default-user=s64",
      "userId": "14588499186061235912"
     },
     "user_tz": 240
    },
    "id": "zG1xKO7XyeDt",
    "outputId": "24d3c4a0-2fb5-4ba0-8272-dbb8d7b8201c"
   },
   "outputs": [
    {
     "name": "stdout",
     "output_type": "stream",
     "text": [
      "The shape of our features is: (15404, 6)\n"
     ]
    }
   ],
   "source": [
    "print('The shape of our features is:', features.shape)"
   ]
  },
  {
   "cell_type": "code",
   "execution_count": 3,
   "metadata": {
    "executionInfo": {
     "elapsed": 111,
     "status": "ok",
     "timestamp": 1633366986694,
     "user": {
      "displayName": "keqi he",
      "photoUrl": "https://lh3.googleusercontent.com/a/default-user=s64",
      "userId": "14588499186061235912"
     },
     "user_tz": 240
    },
    "id": "cHDQhGGUyekr"
   },
   "outputs": [],
   "source": [
    "features = pd.DataFrame(features)"
   ]
  },
  {
   "cell_type": "code",
   "execution_count": 4,
   "metadata": {
    "colab": {
     "base_uri": "https://localhost:8080/",
     "height": 424
    },
    "executionInfo": {
     "elapsed": 135,
     "status": "ok",
     "timestamp": 1633366987655,
     "user": {
      "displayName": "keqi he",
      "photoUrl": "https://lh3.googleusercontent.com/a/default-user=s64",
      "userId": "14588499186061235912"
     },
     "user_tz": 240
    },
    "id": "lFUqcDEfyhlc",
    "outputId": "a3c3c644-d09f-4d8e-8b15-ad3068909640"
   },
   "outputs": [
    {
     "data": {
      "text/html": [
       "<div>\n",
       "<style scoped>\n",
       "    .dataframe tbody tr th:only-of-type {\n",
       "        vertical-align: middle;\n",
       "    }\n",
       "\n",
       "    .dataframe tbody tr th {\n",
       "        vertical-align: top;\n",
       "    }\n",
       "\n",
       "    .dataframe thead th {\n",
       "        text-align: right;\n",
       "    }\n",
       "</style>\n",
       "<table border=\"1\" class=\"dataframe\">\n",
       "  <thead>\n",
       "    <tr style=\"text-align: right;\">\n",
       "      <th></th>\n",
       "      <th>dem</th>\n",
       "      <th>dist2canal</th>\n",
       "      <th>saltwater_max</th>\n",
       "      <th>groundwater_max</th>\n",
       "      <th>gw_duration</th>\n",
       "      <th>degradation</th>\n",
       "    </tr>\n",
       "  </thead>\n",
       "  <tbody>\n",
       "    <tr>\n",
       "      <th>0</th>\n",
       "      <td>0.380540</td>\n",
       "      <td>1471.223980</td>\n",
       "      <td>-0.219789</td>\n",
       "      <td>-0.004625</td>\n",
       "      <td>1.000000</td>\n",
       "      <td>1</td>\n",
       "    </tr>\n",
       "    <tr>\n",
       "      <th>1</th>\n",
       "      <td>0.236220</td>\n",
       "      <td>1500.299970</td>\n",
       "      <td>-0.071583</td>\n",
       "      <td>0.123283</td>\n",
       "      <td>1.000000</td>\n",
       "      <td>1</td>\n",
       "    </tr>\n",
       "    <tr>\n",
       "      <th>2</th>\n",
       "      <td>0.333770</td>\n",
       "      <td>1530.294089</td>\n",
       "      <td>-0.169133</td>\n",
       "      <td>0.025733</td>\n",
       "      <td>1.000000</td>\n",
       "      <td>1</td>\n",
       "    </tr>\n",
       "    <tr>\n",
       "      <th>3</th>\n",
       "      <td>0.473780</td>\n",
       "      <td>1560.288435</td>\n",
       "      <td>-0.307434</td>\n",
       "      <td>-0.192245</td>\n",
       "      <td>0.986301</td>\n",
       "      <td>1</td>\n",
       "    </tr>\n",
       "    <tr>\n",
       "      <th>4</th>\n",
       "      <td>0.348380</td>\n",
       "      <td>1500.000000</td>\n",
       "      <td>-0.188293</td>\n",
       "      <td>0.090398</td>\n",
       "      <td>0.920548</td>\n",
       "      <td>1</td>\n",
       "    </tr>\n",
       "    <tr>\n",
       "      <th>...</th>\n",
       "      <td>...</td>\n",
       "      <td>...</td>\n",
       "      <td>...</td>\n",
       "      <td>...</td>\n",
       "      <td>...</td>\n",
       "      <td>...</td>\n",
       "    </tr>\n",
       "    <tr>\n",
       "      <th>15399</th>\n",
       "      <td>0.484160</td>\n",
       "      <td>3761.980861</td>\n",
       "      <td>-0.290103</td>\n",
       "      <td>-0.082835</td>\n",
       "      <td>0.877049</td>\n",
       "      <td>2</td>\n",
       "    </tr>\n",
       "    <tr>\n",
       "      <th>15400</th>\n",
       "      <td>0.041831</td>\n",
       "      <td>3853.336217</td>\n",
       "      <td>0.219596</td>\n",
       "      <td>0.314767</td>\n",
       "      <td>0.268493</td>\n",
       "      <td>2</td>\n",
       "    </tr>\n",
       "    <tr>\n",
       "      <th>15401</th>\n",
       "      <td>0.008813</td>\n",
       "      <td>3812.833592</td>\n",
       "      <td>0.232474</td>\n",
       "      <td>0.325290</td>\n",
       "      <td>0.235616</td>\n",
       "      <td>2</td>\n",
       "    </tr>\n",
       "    <tr>\n",
       "      <th>15402</th>\n",
       "      <td>0.021208</td>\n",
       "      <td>3805.390913</td>\n",
       "      <td>0.201926</td>\n",
       "      <td>0.347551</td>\n",
       "      <td>0.243836</td>\n",
       "      <td>2</td>\n",
       "    </tr>\n",
       "    <tr>\n",
       "      <th>15403</th>\n",
       "      <td>0.445770</td>\n",
       "      <td>3937.321425</td>\n",
       "      <td>-0.206673</td>\n",
       "      <td>-0.098041</td>\n",
       "      <td>0.898630</td>\n",
       "      <td>2</td>\n",
       "    </tr>\n",
       "  </tbody>\n",
       "</table>\n",
       "<p>15404 rows × 6 columns</p>\n",
       "</div>"
      ],
      "text/plain": [
       "            dem   dist2canal  saltwater_max  groundwater_max  gw_duration  \\\n",
       "0      0.380540  1471.223980      -0.219789        -0.004625     1.000000   \n",
       "1      0.236220  1500.299970      -0.071583         0.123283     1.000000   \n",
       "2      0.333770  1530.294089      -0.169133         0.025733     1.000000   \n",
       "3      0.473780  1560.288435      -0.307434        -0.192245     0.986301   \n",
       "4      0.348380  1500.000000      -0.188293         0.090398     0.920548   \n",
       "...         ...          ...            ...              ...          ...   \n",
       "15399  0.484160  3761.980861      -0.290103        -0.082835     0.877049   \n",
       "15400  0.041831  3853.336217       0.219596         0.314767     0.268493   \n",
       "15401  0.008813  3812.833592       0.232474         0.325290     0.235616   \n",
       "15402  0.021208  3805.390913       0.201926         0.347551     0.243836   \n",
       "15403  0.445770  3937.321425      -0.206673        -0.098041     0.898630   \n",
       "\n",
       "       degradation  \n",
       "0                1  \n",
       "1                1  \n",
       "2                1  \n",
       "3                1  \n",
       "4                1  \n",
       "...            ...  \n",
       "15399            2  \n",
       "15400            2  \n",
       "15401            2  \n",
       "15402            2  \n",
       "15403            2  \n",
       "\n",
       "[15404 rows x 6 columns]"
      ]
     },
     "execution_count": 4,
     "metadata": {},
     "output_type": "execute_result"
    }
   ],
   "source": [
    "features"
   ]
  },
  {
   "cell_type": "code",
   "execution_count": 5,
   "metadata": {
    "colab": {
     "base_uri": "https://localhost:8080/"
    },
    "executionInfo": {
     "elapsed": 115,
     "status": "ok",
     "timestamp": 1633366990115,
     "user": {
      "displayName": "keqi he",
      "photoUrl": "https://lh3.googleusercontent.com/a/default-user=s64",
      "userId": "14588499186061235912"
     },
     "user_tz": 240
    },
    "id": "LjF6Bq9rvVRF",
    "outputId": "cb79a0f2-2065-4d1f-cf09-9dcb182a57c5"
   },
   "outputs": [
    {
     "data": {
      "text/plain": [
       "1    13219\n",
       "2     2185\n",
       "Name: degradation, dtype: int64"
      ]
     },
     "execution_count": 5,
     "metadata": {},
     "output_type": "execute_result"
    }
   ],
   "source": [
    "features['degradation'].value_counts()"
   ]
  },
  {
   "cell_type": "code",
   "execution_count": 6,
   "metadata": {
    "colab": {
     "base_uri": "https://localhost:8080/"
    },
    "executionInfo": {
     "elapsed": 828,
     "status": "ok",
     "timestamp": 1633366992474,
     "user": {
      "displayName": "keqi he",
      "photoUrl": "https://lh3.googleusercontent.com/a/default-user=s64",
      "userId": "14588499186061235912"
     },
     "user_tz": 240
    },
    "id": "LlMIlSV-u7fr",
    "outputId": "bbd99847-c6a8-4852-a794-f0ab7cb2785b"
   },
   "outputs": [
    {
     "data": {
      "text/plain": [
       "1    13219\n",
       "2    13219\n",
       "Name: degradation, dtype: int64"
      ]
     },
     "execution_count": 6,
     "metadata": {},
     "output_type": "execute_result"
    }
   ],
   "source": [
    "from sklearn.utils import resample\n",
    "\n",
    "df_majority = features[features.degradation==1]\n",
    "df_minority = features[features.degradation==2]\n",
    "\n",
    "df_minority_upsampled = resample(df_minority,\n",
    "                                 replace=True,     # sample with replacement\n",
    "                                 n_samples=13219,   # to match majority class\n",
    "                                 random_state=123) # reproducible results\n",
    "\n",
    "df_upsampled = pd.concat([df_majority, df_minority_upsampled])\n",
    "\n",
    "df_upsampled.degradation.value_counts()"
   ]
  },
  {
   "cell_type": "code",
   "execution_count": 7,
   "metadata": {
    "executionInfo": {
     "elapsed": 110,
     "status": "ok",
     "timestamp": 1633366995893,
     "user": {
      "displayName": "keqi he",
      "photoUrl": "https://lh3.googleusercontent.com/a/default-user=s64",
      "userId": "14588499186061235912"
     },
     "user_tz": 240
    },
    "id": "AJeMeBm4yj-8"
   },
   "outputs": [],
   "source": [
    "# Use numpy to convert to arrays\n",
    "import numpy as np\n",
    "# Labels are the values we \"want to predict\n",
    "labels = np.array(df_upsampled['degradation'])\n",
    "# Remove the labels from the features\n",
    "# axis 1 refers to the columns\n",
    "df_upsampled= df_upsampled.drop('degradation', axis = 1)\n",
    "# Saving feature names for later use\n",
    "feature_list = list(df_upsampled.columns)\n",
    "# Convert to numpy array\n",
    "features = np.array(df_upsampled)"
   ]
  },
  {
   "cell_type": "code",
   "execution_count": 8,
   "metadata": {
    "colab": {
     "base_uri": "https://localhost:8080/"
    },
    "executionInfo": {
     "elapsed": 13,
     "status": "ok",
     "timestamp": 1633366997242,
     "user": {
      "displayName": "keqi he",
      "photoUrl": "https://lh3.googleusercontent.com/a/default-user=s64",
      "userId": "14588499186061235912"
     },
     "user_tz": 240
    },
    "id": "3f8qpw_KykuU",
    "outputId": "93487269-b4fe-4a0f-e4f7-60a1af9e6fe3"
   },
   "outputs": [
    {
     "data": {
      "text/plain": [
       "(26438, 5)"
      ]
     },
     "execution_count": 8,
     "metadata": {},
     "output_type": "execute_result"
    }
   ],
   "source": [
    "features.shape"
   ]
  },
  {
   "cell_type": "code",
   "execution_count": 9,
   "metadata": {
    "executionInfo": {
     "elapsed": 139,
     "status": "ok",
     "timestamp": 1633366999043,
     "user": {
      "displayName": "keqi he",
      "photoUrl": "https://lh3.googleusercontent.com/a/default-user=s64",
      "userId": "14588499186061235912"
     },
     "user_tz": 240
    },
    "id": "DW9Jv0qnymM7"
   },
   "outputs": [],
   "source": [
    "# Using Skicit-learn to split data into training and testing sets\n",
    "from sklearn.model_selection import train_test_split\n",
    "# Split the data into training and testing sets\n",
    "train_features, test_features, train_labels, test_labels = train_test_split(features, labels, test_size = 0.25, random_state = 42)"
   ]
  },
  {
   "cell_type": "code",
   "execution_count": 10,
   "metadata": {
    "colab": {
     "base_uri": "https://localhost:8080/"
    },
    "executionInfo": {
     "elapsed": 122,
     "status": "ok",
     "timestamp": 1633367002001,
     "user": {
      "displayName": "keqi he",
      "photoUrl": "https://lh3.googleusercontent.com/a/default-user=s64",
      "userId": "14588499186061235912"
     },
     "user_tz": 240
    },
    "id": "aB1Xhe8WyoNr",
    "outputId": "04b667b1-ff08-4035-9ae3-fd64de8207dc"
   },
   "outputs": [
    {
     "name": "stdout",
     "output_type": "stream",
     "text": [
      "Training Features Shape: (19828, 5)\n",
      "Training Labels Shape: (19828,)\n",
      "Testing Features Shape: (6610, 5)\n",
      "Testing Labels Shape: (6610,)\n"
     ]
    }
   ],
   "source": [
    "print('Training Features Shape:', train_features.shape)\n",
    "print('Training Labels Shape:', train_labels.shape)\n",
    "print('Testing Features Shape:', test_features.shape)\n",
    "print('Testing Labels Shape:', test_labels.shape)"
   ]
  },
  {
   "cell_type": "code",
   "execution_count": 11,
   "metadata": {},
   "outputs": [],
   "source": [
    "# Import the model we are using\n",
    "import sklearn.ensemble\n",
    "clf = sklearn.ensemble.RandomForestRegressor(random_state=21)"
   ]
  },
  {
   "cell_type": "code",
   "execution_count": 12,
   "metadata": {},
   "outputs": [],
   "source": [
    "param_grid = {'min_samples_split': [2, 5, 10],\n",
    "              'max_depth': [2, 8, 16],\n",
    "              'max_features': ['sqrt','log2'],\n",
    "              'n_estimators': [10,50,100,500,1000,2000],\n",
    "              'min_samples_leaf': [1, 2, 4]}"
   ]
  },
  {
   "cell_type": "code",
   "execution_count": 13,
   "metadata": {},
   "outputs": [],
   "source": [
    "from sklearn.model_selection import GridSearchCV\n",
    "from sklearn.model_selection import KFold\n",
    "gd_sr = GridSearchCV(estimator=clf,\n",
    "                     param_grid=param_grid,\n",
    "                     scoring='r2',\n",
    "                     cv=KFold(n_splits=3, shuffle=True, random_state=21),\n",
    "                     error_score=\"raise\")"
   ]
  },
  {
   "cell_type": "code",
   "execution_count": 14,
   "metadata": {},
   "outputs": [],
   "source": [
    "import warnings\n",
    "\n",
    "warnings.filterwarnings('ignore')\n",
    "\n",
    "gd_sr_res = gd_sr.fit(train_features, train_labels)"
   ]
  },
  {
   "cell_type": "code",
   "execution_count": 15,
   "metadata": {},
   "outputs": [
    {
     "name": "stdout",
     "output_type": "stream",
     "text": [
      "{'max_depth': 16, 'max_features': 'sqrt', 'min_samples_leaf': 1, 'min_samples_split': 2, 'n_estimators': 500}\n"
     ]
    }
   ],
   "source": [
    "best_parameters = gd_sr.best_params_\n",
    "print(best_parameters)"
   ]
  },
  {
   "cell_type": "code",
   "execution_count": 16,
   "metadata": {},
   "outputs": [
    {
     "name": "stdout",
     "output_type": "stream",
     "text": [
      "0.7439659311944027\n"
     ]
    }
   ],
   "source": [
    "best_result = gd_sr.best_score_\n",
    "print(best_result)"
   ]
  },
  {
   "cell_type": "code",
   "execution_count": 17,
   "metadata": {
    "id": "W1ZfarMKyrKq"
   },
   "outputs": [],
   "source": [
    "# Import the model we are using\n",
    "import sklearn.ensemble\n",
    "# Instantiate model with 500 decision trees\n",
    "clf = sklearn.ensemble.RandomForestClassifier(n_estimators=2000, random_state=21, min_samples_split = 2,min_samples_leaf = 1, max_depth = 16, max_features = 'sqrt')\n",
    "# Train the model on training data\n",
    "clf = clf.fit(train_features, train_labels);"
   ]
  },
  {
   "cell_type": "code",
   "execution_count": 18,
   "metadata": {
    "colab": {
     "base_uri": "https://localhost:8080/"
    },
    "executionInfo": {
     "elapsed": 951,
     "status": "ok",
     "timestamp": 1623784148133,
     "user": {
      "displayName": "keqi he",
      "photoUrl": "",
      "userId": "14588499186061235912"
     },
     "user_tz": 240
    },
    "id": "dhWrwl8Z060U",
    "outputId": "1e1d2a3c-60ba-4164-d1b5-f95272170f60"
   },
   "outputs": [
    {
     "name": "stdout",
     "output_type": "stream",
     "text": [
      "Accuracy: 0.9354009077155825\n"
     ]
    }
   ],
   "source": [
    "# Use the forest's predict method on the test data\n",
    "predictions = clf.predict(test_features)\n",
    "#Assess the accuracy using the validation dataset\n",
    "print('Accuracy:',clf.score(test_features,test_labels))"
   ]
  },
  {
   "cell_type": "code",
   "execution_count": 19,
   "metadata": {
    "colab": {
     "base_uri": "https://localhost:8080/"
    },
    "executionInfo": {
     "elapsed": 587,
     "status": "ok",
     "timestamp": 1623784177784,
     "user": {
      "displayName": "keqi he",
      "photoUrl": "",
      "userId": "14588499186061235912"
     },
     "user_tz": 240
    },
    "id": "QY4QQ1kny0sZ",
    "outputId": "ebd24f20-38c7-4b0d-a0c2-e29f3cbd255a"
   },
   "outputs": [
    {
     "name": "stdout",
     "output_type": "stream",
     "text": [
      "0.993790527608764\n"
     ]
    }
   ],
   "source": [
    "from sklearn.metrics import roc_auc_score\n",
    "prob_y = clf.predict_proba(test_features)\n",
    "prob_y = [p[1] for p in prob_y]\n",
    "print(roc_auc_score(test_labels, prob_y))"
   ]
  },
  {
   "cell_type": "code",
   "execution_count": 20,
   "metadata": {
    "colab": {
     "base_uri": "https://localhost:8080/"
    },
    "executionInfo": {
     "elapsed": 117,
     "status": "ok",
     "timestamp": 1623784179177,
     "user": {
      "displayName": "keqi he",
      "photoUrl": "",
      "userId": "14588499186061235912"
     },
     "user_tz": 240
    },
    "id": "3zBK6O_NywG2",
    "outputId": "8ab91dbd-3954-4b51-8a7d-aa62b4d59a97"
   },
   "outputs": [
    {
     "name": "stdout",
     "output_type": "stream",
     "text": [
      "Variable: dist2canal           Importance: 0.31\n",
      "Variable: dem                  Importance: 0.2\n",
      "Variable: saltwater_max        Importance: 0.19\n",
      "Variable: groundwater_max      Importance: 0.17\n",
      "Variable: gw_duration          Importance: 0.12\n"
     ]
    }
   ],
   "source": [
    "# Get numerical feature importances\n",
    "importances = list(clf.feature_importances_)\n",
    "# List of tuples with variable and importance\n",
    "feature_importances = [(feature, round(importance, 2)) for feature, importance in zip(feature_list, importances)]\n",
    "# Sort the feature importances by most important first\n",
    "feature_importances = sorted(feature_importances, key = lambda x: x[1], reverse = True)\n",
    "# Print out the feature and importances \n",
    "[print('Variable: {:20} Importance: {}'.format(*pair)) for pair in feature_importances];"
   ]
  },
  {
   "cell_type": "code",
   "execution_count": 21,
   "metadata": {
    "colab": {
     "base_uri": "https://localhost:8080/",
     "height": 437
    },
    "executionInfo": {
     "elapsed": 310,
     "status": "ok",
     "timestamp": 1623784192042,
     "user": {
      "displayName": "keqi he",
      "photoUrl": "",
      "userId": "14588499186061235912"
     },
     "user_tz": 240
    },
    "id": "ibMy1w7ryx-7",
    "outputId": "8a960d31-f49c-4298-d05f-ab73ab327c15"
   },
   "outputs": [
    {
     "data": {
      "image/png": "[encoded data removed]",
      "text/plain": [
       "<Figure size 432x288 with 1 Axes>"
      ]
     },
     "metadata": {},
     "output_type": "display_data"
    }
   ],
   "source": [
    "# Import matplotlib for plotting and use magic command for Jupyter Notebooks\n",
    "import matplotlib.pyplot as plt\n",
    "%matplotlib inline\n",
    "# Set the style\n",
    "plt.style.use('fivethirtyeight')\n",
    "# list of x locations for plotting\n",
    "x_values = list(range(len(importances)))\n",
    "# Make a bar chart\n",
    "plt.bar(x_values, importances, orientation = 'vertical')\n",
    "# Tick labels for x axis\n",
    "plt.xticks(x_values, feature_list, rotation='vertical')\n",
    "# Axis labels and title\n",
    "plt.ylabel('Importance'); plt.xlabel('Variable'); plt.title('Variable Importances');"
   ]
  },
  {
   "cell_type": "code",
   "execution_count": null,
   "metadata": {},
   "outputs": [],
   "source": []
  }
 ],
 "metadata": {
  "colab": {
   "authorship_tag": "ABX9TyMtidiUptIyvTa3SJ2S/BJJ",
   "collapsed_sections": [],
   "mount_file_id": "1gwwYTeKtSZ1pHpgNbrW4xaJjDgD7R5sS",
   "name": "woody_degrad.ipynb",
   "provenance": []
  },
  "kernelspec": {
   "display_name": "Python 3 (ipykernel)",
   "language": "python",
   "name": "python3"
  },
  "language_info": {
   "codemirror_mode": {
    "name": "ipython",
    "version": 3
   },
   "file_extension": ".py",
   "mimetype": "text/x-python",
   "name": "python",
   "nbconvert_exporter": "python",
   "pygments_lexer": "ipython3",
   "version": "3.9.12"
  }
 },
 "nbformat": 4,
 "nbformat_minor": 4
}
