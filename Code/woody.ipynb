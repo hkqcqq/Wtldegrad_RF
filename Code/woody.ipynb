{
 "cells": [
  {
   "cell_type": "code",
   "execution_count": 1,
   "metadata": {
    "colab": {
     "base_uri": "https://localhost:8080/",
     "height": 206
    },
    "executionInfo": {
     "elapsed": 3029,
     "status": "ok",
     "timestamp": 1633366488660,
     "user": {
      "displayName": "keqi he",
      "photoUrl": "https://lh3.googleusercontent.com/a/default-user=s64",
      "userId": "14588499186061235912"
     },
     "user_tz": 240
    },
    "id": "vh5U-vuXyQXq",
    "outputId": "abb5423e-c84f-4ad7-ab78-6bcc633eab12"
   },
   "outputs": [
    {
     "data": {
      "text/html": [
       "<div>\n",
       "<style scoped>\n",
       "    .dataframe tbody tr th:only-of-type {\n",
       "        vertical-align: middle;\n",
       "    }\n",
       "\n",
       "    .dataframe tbody tr th {\n",
       "        vertical-align: top;\n",
       "    }\n",
       "\n",
       "    .dataframe thead th {\n",
       "        text-align: right;\n",
       "    }\n",
       "</style>\n",
       "<table border=\"1\" class=\"dataframe\">\n",
       "  <thead>\n",
       "    <tr style=\"text-align: right;\">\n",
       "      <th></th>\n",
       "      <th>dem</th>\n",
       "      <th>dist2canal</th>\n",
       "      <th>saltwater_max</th>\n",
       "      <th>groundwater_max</th>\n",
       "      <th>gw_duration</th>\n",
       "      <th>degradation</th>\n",
       "    </tr>\n",
       "  </thead>\n",
       "  <tbody>\n",
       "    <tr>\n",
       "      <th>0</th>\n",
       "      <td>0.148050</td>\n",
       "      <td>67.082039</td>\n",
       "      <td>-0.469325</td>\n",
       "      <td>0.392048</td>\n",
       "      <td>0.840057</td>\n",
       "      <td>0</td>\n",
       "    </tr>\n",
       "    <tr>\n",
       "      <th>1</th>\n",
       "      <td>0.051878</td>\n",
       "      <td>84.852814</td>\n",
       "      <td>-0.373153</td>\n",
       "      <td>0.488220</td>\n",
       "      <td>0.840057</td>\n",
       "      <td>0</td>\n",
       "    </tr>\n",
       "    <tr>\n",
       "      <th>2</th>\n",
       "      <td>0.097211</td>\n",
       "      <td>94.868330</td>\n",
       "      <td>-0.418486</td>\n",
       "      <td>0.442887</td>\n",
       "      <td>0.840057</td>\n",
       "      <td>0</td>\n",
       "    </tr>\n",
       "    <tr>\n",
       "      <th>3</th>\n",
       "      <td>0.178980</td>\n",
       "      <td>318.904374</td>\n",
       "      <td>-0.495864</td>\n",
       "      <td>0.377907</td>\n",
       "      <td>0.908289</td>\n",
       "      <td>0</td>\n",
       "    </tr>\n",
       "    <tr>\n",
       "      <th>4</th>\n",
       "      <td>0.195100</td>\n",
       "      <td>296.984848</td>\n",
       "      <td>-0.511984</td>\n",
       "      <td>0.361787</td>\n",
       "      <td>0.908289</td>\n",
       "      <td>0</td>\n",
       "    </tr>\n",
       "  </tbody>\n",
       "</table>\n",
       "</div>"
      ],
      "text/plain": [
       "        dem  dist2canal  saltwater_max  groundwater_max  gw_duration  \\\n",
       "0  0.148050   67.082039      -0.469325         0.392048     0.840057   \n",
       "1  0.051878   84.852814      -0.373153         0.488220     0.840057   \n",
       "2  0.097211   94.868330      -0.418486         0.442887     0.840057   \n",
       "3  0.178980  318.904374      -0.495864         0.377907     0.908289   \n",
       "4  0.195100  296.984848      -0.511984         0.361787     0.908289   \n",
       "\n",
       "   degradation  \n",
       "0            0  \n",
       "1            0  \n",
       "2            0  \n",
       "3            0  \n",
       "4            0  "
      ]
     },
     "execution_count": 1,
     "metadata": {},
     "output_type": "execute_result"
    }
   ],
   "source": [
    "# Pandas is used for data manipulation\n",
    "import pandas as pd\n",
    "# Read in data and display first 5 rows\n",
    "features = pd.read_csv('woody.csv')\n",
    "features.head(5)"
   ]
  },
  {
   "cell_type": "code",
   "execution_count": 2,
   "metadata": {
    "colab": {
     "base_uri": "https://localhost:8080/"
    },
    "executionInfo": {
     "elapsed": 190,
     "status": "ok",
     "timestamp": 1633366490499,
     "user": {
      "displayName": "keqi he",
      "photoUrl": "https://lh3.googleusercontent.com/a/default-user=s64",
      "userId": "14588499186061235912"
     },
     "user_tz": 240
    },
    "id": "zG1xKO7XyeDt",
    "outputId": "1cbc4bb4-1b9d-4e3a-db21-d94425f190f1"
   },
   "outputs": [
    {
     "name": "stdout",
     "output_type": "stream",
     "text": [
      "The shape of our features is: (429317, 6)\n"
     ]
    }
   ],
   "source": [
    "print('The shape of our features is:', features.shape)"
   ]
  },
  {
   "cell_type": "code",
   "execution_count": 3,
   "metadata": {
    "executionInfo": {
     "elapsed": 2,
     "status": "ok",
     "timestamp": 1633366491725,
     "user": {
      "displayName": "keqi he",
      "photoUrl": "https://lh3.googleusercontent.com/a/default-user=s64",
      "userId": "14588499186061235912"
     },
     "user_tz": 240
    },
    "id": "cHDQhGGUyekr"
   },
   "outputs": [],
   "source": [
    "features = pd.DataFrame(features)"
   ]
  },
  {
   "cell_type": "code",
   "execution_count": 4,
   "metadata": {
    "colab": {
     "base_uri": "https://localhost:8080/",
     "height": 424
    },
    "executionInfo": {
     "elapsed": 200,
     "status": "ok",
     "timestamp": 1633366493439,
     "user": {
      "displayName": "keqi he",
      "photoUrl": "https://lh3.googleusercontent.com/a/default-user=s64",
      "userId": "14588499186061235912"
     },
     "user_tz": 240
    },
    "id": "lFUqcDEfyhlc",
    "outputId": "5a92418c-271e-4d8d-889c-5d20260fae53"
   },
   "outputs": [
    {
     "data": {
      "text/html": [
       "<div>\n",
       "<style scoped>\n",
       "    .dataframe tbody tr th:only-of-type {\n",
       "        vertical-align: middle;\n",
       "    }\n",
       "\n",
       "    .dataframe tbody tr th {\n",
       "        vertical-align: top;\n",
       "    }\n",
       "\n",
       "    .dataframe thead th {\n",
       "        text-align: right;\n",
       "    }\n",
       "</style>\n",
       "<table border=\"1\" class=\"dataframe\">\n",
       "  <thead>\n",
       "    <tr style=\"text-align: right;\">\n",
       "      <th></th>\n",
       "      <th>dem</th>\n",
       "      <th>dist2canal</th>\n",
       "      <th>saltwater_max</th>\n",
       "      <th>groundwater_max</th>\n",
       "      <th>gw_duration</th>\n",
       "      <th>degradation</th>\n",
       "    </tr>\n",
       "  </thead>\n",
       "  <tbody>\n",
       "    <tr>\n",
       "      <th>0</th>\n",
       "      <td>0.148050</td>\n",
       "      <td>67.082039</td>\n",
       "      <td>-0.469325</td>\n",
       "      <td>0.392048</td>\n",
       "      <td>0.840057</td>\n",
       "      <td>0</td>\n",
       "    </tr>\n",
       "    <tr>\n",
       "      <th>1</th>\n",
       "      <td>0.051878</td>\n",
       "      <td>84.852814</td>\n",
       "      <td>-0.373153</td>\n",
       "      <td>0.488220</td>\n",
       "      <td>0.840057</td>\n",
       "      <td>0</td>\n",
       "    </tr>\n",
       "    <tr>\n",
       "      <th>2</th>\n",
       "      <td>0.097211</td>\n",
       "      <td>94.868330</td>\n",
       "      <td>-0.418486</td>\n",
       "      <td>0.442887</td>\n",
       "      <td>0.840057</td>\n",
       "      <td>0</td>\n",
       "    </tr>\n",
       "    <tr>\n",
       "      <th>3</th>\n",
       "      <td>0.178980</td>\n",
       "      <td>318.904374</td>\n",
       "      <td>-0.495864</td>\n",
       "      <td>0.377907</td>\n",
       "      <td>0.908289</td>\n",
       "      <td>0</td>\n",
       "    </tr>\n",
       "    <tr>\n",
       "      <th>4</th>\n",
       "      <td>0.195100</td>\n",
       "      <td>296.984848</td>\n",
       "      <td>-0.511984</td>\n",
       "      <td>0.361787</td>\n",
       "      <td>0.908289</td>\n",
       "      <td>0</td>\n",
       "    </tr>\n",
       "    <tr>\n",
       "      <th>...</th>\n",
       "      <td>...</td>\n",
       "      <td>...</td>\n",
       "      <td>...</td>\n",
       "      <td>...</td>\n",
       "      <td>...</td>\n",
       "      <td>...</td>\n",
       "    </tr>\n",
       "    <tr>\n",
       "      <th>429312</th>\n",
       "      <td>0.405030</td>\n",
       "      <td>3901.038323</td>\n",
       "      <td>-0.096618</td>\n",
       "      <td>0.005070</td>\n",
       "      <td>0.327381</td>\n",
       "      <td>0</td>\n",
       "    </tr>\n",
       "    <tr>\n",
       "      <th>429313</th>\n",
       "      <td>0.345530</td>\n",
       "      <td>3890.758281</td>\n",
       "      <td>-0.038905</td>\n",
       "      <td>0.021395</td>\n",
       "      <td>0.910163</td>\n",
       "      <td>0</td>\n",
       "    </tr>\n",
       "    <tr>\n",
       "      <th>429314</th>\n",
       "      <td>0.438530</td>\n",
       "      <td>3880.682930</td>\n",
       "      <td>-0.130857</td>\n",
       "      <td>-0.036934</td>\n",
       "      <td>0.773479</td>\n",
       "      <td>0</td>\n",
       "    </tr>\n",
       "    <tr>\n",
       "      <th>429315</th>\n",
       "      <td>0.657360</td>\n",
       "      <td>3861.152678</td>\n",
       "      <td>-0.349315</td>\n",
       "      <td>-0.100210</td>\n",
       "      <td>0.106261</td>\n",
       "      <td>0</td>\n",
       "    </tr>\n",
       "    <tr>\n",
       "      <th>429316</th>\n",
       "      <td>0.417820</td>\n",
       "      <td>3972.027190</td>\n",
       "      <td>-0.108095</td>\n",
       "      <td>0.057642</td>\n",
       "      <td>0.460869</td>\n",
       "      <td>0</td>\n",
       "    </tr>\n",
       "  </tbody>\n",
       "</table>\n",
       "<p>429317 rows × 6 columns</p>\n",
       "</div>"
      ],
      "text/plain": [
       "             dem   dist2canal  saltwater_max  groundwater_max  gw_duration  \\\n",
       "0       0.148050    67.082039      -0.469325         0.392048     0.840057   \n",
       "1       0.051878    84.852814      -0.373153         0.488220     0.840057   \n",
       "2       0.097211    94.868330      -0.418486         0.442887     0.840057   \n",
       "3       0.178980   318.904374      -0.495864         0.377907     0.908289   \n",
       "4       0.195100   296.984848      -0.511984         0.361787     0.908289   \n",
       "...          ...          ...            ...              ...          ...   \n",
       "429312  0.405030  3901.038323      -0.096618         0.005070     0.327381   \n",
       "429313  0.345530  3890.758281      -0.038905         0.021395     0.910163   \n",
       "429314  0.438530  3880.682930      -0.130857        -0.036934     0.773479   \n",
       "429315  0.657360  3861.152678      -0.349315        -0.100210     0.106261   \n",
       "429316  0.417820  3972.027190      -0.108095         0.057642     0.460869   \n",
       "\n",
       "        degradation  \n",
       "0                 0  \n",
       "1                 0  \n",
       "2                 0  \n",
       "3                 0  \n",
       "4                 0  \n",
       "...             ...  \n",
       "429312            0  \n",
       "429313            0  \n",
       "429314            0  \n",
       "429315            0  \n",
       "429316            0  \n",
       "\n",
       "[429317 rows x 6 columns]"
      ]
     },
     "execution_count": 4,
     "metadata": {},
     "output_type": "execute_result"
    }
   ],
   "source": [
    "features"
   ]
  },
  {
   "cell_type": "code",
   "execution_count": 5,
   "metadata": {
    "colab": {
     "base_uri": "https://localhost:8080/"
    },
    "executionInfo": {
     "elapsed": 210,
     "status": "ok",
     "timestamp": 1633366495179,
     "user": {
      "displayName": "keqi he",
      "photoUrl": "https://lh3.googleusercontent.com/a/default-user=s64",
      "userId": "14588499186061235912"
     },
     "user_tz": 240
    },
    "id": "LjF6Bq9rvVRF",
    "outputId": "87c76c0c-ca17-40bc-8d89-8318ee77bd0d"
   },
   "outputs": [
    {
     "data": {
      "text/plain": [
       "0    413913\n",
       "1     15404\n",
       "Name: degradation, dtype: int64"
      ]
     },
     "execution_count": 5,
     "metadata": {},
     "output_type": "execute_result"
    }
   ],
   "source": [
    "features['degradation'].value_counts()"
   ]
  },
  {
   "cell_type": "code",
   "execution_count": 6,
   "metadata": {
    "colab": {
     "base_uri": "https://localhost:8080/"
    },
    "executionInfo": {
     "elapsed": 962,
     "status": "ok",
     "timestamp": 1633366497344,
     "user": {
      "displayName": "keqi he",
      "photoUrl": "https://lh3.googleusercontent.com/a/default-user=s64",
      "userId": "14588499186061235912"
     },
     "user_tz": 240
    },
    "id": "LlMIlSV-u7fr",
    "outputId": "e4c60260-fba1-4d1f-e2d7-9377f5a38ae8"
   },
   "outputs": [
    {
     "data": {
      "text/plain": [
       "0    413913\n",
       "1    413913\n",
       "Name: degradation, dtype: int64"
      ]
     },
     "execution_count": 6,
     "metadata": {},
     "output_type": "execute_result"
    }
   ],
   "source": [
    "from sklearn.utils import resample\n",
    "#  分离多数和少数类别\n",
    "df_majority = features[features.degradation==0]\n",
    "df_minority = features[features.degradation==1]\n",
    "\n",
    "# 上采样少数类别\n",
    "df_minority_upsampled = resample(df_minority,\n",
    "                                 replace=True,     # sample with replacement\n",
    "                                 n_samples=413913,   # to match majority class\n",
    "                                 random_state=123) # reproducible results\n",
    "\n",
    "# 合并多数类别同上采样过的少数类别\n",
    "df_upsampled = pd.concat([df_majority, df_minority_upsampled])\n",
    "\n",
    "# 显示新的类别数量\n",
    "df_upsampled.degradation.value_counts()"
   ]
  },
  {
   "cell_type": "code",
   "execution_count": 7,
   "metadata": {
    "executionInfo": {
     "elapsed": 198,
     "status": "ok",
     "timestamp": 1633366499363,
     "user": {
      "displayName": "keqi he",
      "photoUrl": "https://lh3.googleusercontent.com/a/default-user=s64",
      "userId": "14588499186061235912"
     },
     "user_tz": 240
    },
    "id": "AJeMeBm4yj-8"
   },
   "outputs": [],
   "source": [
    "# Use numpy to convert to arrays\n",
    "import numpy as np\n",
    "# Labels are the values we \"want to predict\n",
    "labels = np.array(df_upsampled['degradation'])\n",
    "# Remove the labels from the features\n",
    "# axis 1 refers to the columns\n",
    "df_upsampled= df_upsampled.drop('degradation', axis = 1)\n",
    "# Saving feature names for later use\n",
    "feature_list = list(df_upsampled.columns)\n",
    "# Convert to numpy array\n",
    "features = np.array(df_upsampled)"
   ]
  },
  {
   "cell_type": "code",
   "execution_count": 8,
   "metadata": {
    "colab": {
     "base_uri": "https://localhost:8080/"
    },
    "executionInfo": {
     "elapsed": 216,
     "status": "ok",
     "timestamp": 1633366500732,
     "user": {
      "displayName": "keqi he",
      "photoUrl": "https://lh3.googleusercontent.com/a/default-user=s64",
      "userId": "14588499186061235912"
     },
     "user_tz": 240
    },
    "id": "3f8qpw_KykuU",
    "outputId": "d03d7c32-e923-45a8-f6f2-f817a90f716c"
   },
   "outputs": [
    {
     "data": {
      "text/plain": [
       "(827826, 5)"
      ]
     },
     "execution_count": 8,
     "metadata": {},
     "output_type": "execute_result"
    }
   ],
   "source": [
    "features.shape"
   ]
  },
  {
   "cell_type": "code",
   "execution_count": 9,
   "metadata": {
    "executionInfo": {
     "elapsed": 684,
     "status": "ok",
     "timestamp": 1633366502869,
     "user": {
      "displayName": "keqi he",
      "photoUrl": "https://lh3.googleusercontent.com/a/default-user=s64",
      "userId": "14588499186061235912"
     },
     "user_tz": 240
    },
    "id": "DW9Jv0qnymM7"
   },
   "outputs": [],
   "source": [
    "# Using Skicit-learn to split data into training and testing sets\n",
    "from sklearn.model_selection import train_test_split\n",
    "# Split the data into training and testing sets\n",
    "train_features, test_features, train_labels, test_labels = train_test_split(features, labels, test_size = 0.25, random_state = 42)"
   ]
  },
  {
   "cell_type": "code",
   "execution_count": 10,
   "metadata": {
    "colab": {
     "base_uri": "https://localhost:8080/"
    },
    "executionInfo": {
     "elapsed": 199,
     "status": "ok",
     "timestamp": 1633366503882,
     "user": {
      "displayName": "keqi he",
      "photoUrl": "https://lh3.googleusercontent.com/a/default-user=s64",
      "userId": "14588499186061235912"
     },
     "user_tz": 240
    },
    "id": "aB1Xhe8WyoNr",
    "outputId": "7cf71f9a-2394-4f7b-96aa-220ea4a3e1c4"
   },
   "outputs": [
    {
     "name": "stdout",
     "output_type": "stream",
     "text": [
      "Training Features Shape: (620869, 5)\n",
      "Training Labels Shape: (620869,)\n",
      "Testing Features Shape: (206957, 5)\n",
      "Testing Labels Shape: (206957,)\n"
     ]
    }
   ],
   "source": [
    "print('Training Features Shape:', train_features.shape)\n",
    "print('Training Labels Shape:', train_labels.shape)\n",
    "print('Testing Features Shape:', test_features.shape)\n",
    "print('Testing Labels Shape:', test_labels.shape)"
   ]
  },
  {
   "cell_type": "code",
   "execution_count": 11,
   "metadata": {
    "colab": {
     "base_uri": "https://localhost:8080/"
    },
    "executionInfo": {
     "elapsed": 225,
     "status": "ok",
     "timestamp": 1633366597142,
     "user": {
      "displayName": "keqi he",
      "photoUrl": "https://lh3.googleusercontent.com/a/default-user=s64",
      "userId": "14588499186061235912"
     },
     "user_tz": 240
    },
    "id": "J5oadXQbOdCq",
    "outputId": "cd28a28c-c857-476e-8bcb-fd69962b263c"
   },
   "outputs": [
    {
     "name": "stdout",
     "output_type": "stream",
     "text": [
      "这个值：0出现的次数最多，为310550次\n"
     ]
    }
   ],
   "source": [
    "from collections import Counter\n",
    "d = Counter(train_labels)\n",
    "d_s = sorted(d.items(),key=lambda x:x[1],reverse=True)\n",
    "print(f'这个值：{d_s[0][0]}出现的次数最多，为{d_s[0][1]}次')"
   ]
  },
  {
   "cell_type": "code",
   "execution_count": 12,
   "metadata": {
    "colab": {
     "background_save": true,
     "base_uri": "https://localhost:8080/"
    },
    "id": "whwMjXUK3qu0",
    "outputId": "3de0ad80-962f-4f36-b82e-c17eb352b4f9"
   },
   "outputs": [
    {
     "name": "stdout",
     "output_type": "stream",
     "text": [
      "Accuracy: 0.9947621969781162\n",
      "Accuracy: 0.9960040008310905\n",
      "Accuracy: 0.9971878216247819\n",
      "Accuracy: 0.9971878216247819\n",
      "Accuracy: 0.9971684939383544\n",
      "Accuracy: 0.9972071493112096\n",
      "Accuracy: 0.9971781577815682\n",
      "Accuracy: 0.9972168131544233\n",
      "Accuracy: 0.9972651323704924\n",
      "Accuracy: 0.997236140840851\n",
      "Accuracy: 0.9972458046840648\n",
      "Accuracy: 0.9972844600569201\n",
      "Accuracy: 0.9972989558217408\n",
      "Accuracy: 0.9973086196649545\n",
      "Accuracy: 0.9973134515865615\n",
      "Accuracy: 0.997332779272989\n",
      "Accuracy: 0.9973231154297753\n",
      "Accuracy: 0.997337611194596\n",
      "Accuracy: 0.9972989558217408\n"
     ]
    }
   ],
   "source": [
    "# Import the model we are using\n",
    "import sklearn.ensemble\n",
    "# Instantiate model with 3 decision trees\n",
    "clf1 = sklearn.ensemble.RandomForestClassifier(n_estimators=3, random_state=21)\n",
    "clf1 = clf1.fit(train_features, train_labels);\n",
    "acc1 = clf1.score(test_features,test_labels)\n",
    "print('Accuracy:',clf1.score(test_features,test_labels))\n",
    "\n",
    "# Instantiate model with 5 decision trees\n",
    "clf2 = sklearn.ensemble.RandomForestClassifier(n_estimators=5, random_state=21)\n",
    "clf2 = clf2.fit(train_features, train_labels);\n",
    "acc2 = clf2.score(test_features,test_labels)\n",
    "print('Accuracy:',clf2.score(test_features,test_labels))\n",
    "\n",
    "# Instantiate model with 10 decision trees\n",
    "clf3 = sklearn.ensemble.RandomForestClassifier(n_estimators=10, random_state=21)\n",
    "clf3 = clf3.fit(train_features, train_labels);\n",
    "acc3 = clf3.score(test_features,test_labels)\n",
    "print('Accuracy:',clf3.score(test_features,test_labels))\n",
    "\n",
    "# Instantiate model with 20 decision trees\n",
    "clf4 = sklearn.ensemble.RandomForestClassifier(n_estimators=20, random_state=21)\n",
    "clf4 = clf4.fit(train_features, train_labels);\n",
    "acc4 = clf4.score(test_features,test_labels)\n",
    "print('Accuracy:',clf4.score(test_features,test_labels))\n",
    "\n",
    "# Instantiate model with 30 decision trees\n",
    "clf5 = sklearn.ensemble.RandomForestClassifier(n_estimators=30, random_state=21)\n",
    "clf5 = clf5.fit(train_features, train_labels);\n",
    "acc5 = clf5.score(test_features,test_labels)\n",
    "print('Accuracy:',clf5.score(test_features,test_labels))\n",
    "\n",
    "# Instantiate model with 40 decision trees\n",
    "clf6 = sklearn.ensemble.RandomForestClassifier(n_estimators=40, random_state=21)\n",
    "clf6 = clf6.fit(train_features, train_labels);\n",
    "acc6 = clf6.score(test_features,test_labels)\n",
    "print('Accuracy:',clf6.score(test_features,test_labels))\n",
    "\n",
    "# Instantiate model with 50 decision trees\n",
    "clf7 = sklearn.ensemble.RandomForestClassifier(n_estimators=50, random_state=21)\n",
    "clf7 = clf7.fit(train_features, train_labels);\n",
    "acc7 = clf7.score(test_features,test_labels)\n",
    "print('Accuracy:',clf7.score(test_features,test_labels))\n",
    "\n",
    "# Instantiate model with 60 decision trees\n",
    "clf8 = sklearn.ensemble.RandomForestClassifier(n_estimators=60, random_state=21)\n",
    "clf8 = clf8.fit(train_features, train_labels);\n",
    "acc8 = clf8.score(test_features,test_labels)\n",
    "print('Accuracy:',clf8.score(test_features,test_labels))\n",
    "\n",
    "# Instantiate model with 70 decision trees\n",
    "clf9 = sklearn.ensemble.RandomForestClassifier(n_estimators=70, random_state=21)\n",
    "clf9 = clf9.fit(train_features, train_labels);\n",
    "acc9 = clf9.score(test_features,test_labels)\n",
    "print('Accuracy:',clf9.score(test_features,test_labels))\n",
    "\n",
    "# Instantiate model with 80 decision trees\n",
    "clf10 = sklearn.ensemble.RandomForestClassifier(n_estimators=80, random_state=21)\n",
    "clf10 = clf10.fit(train_features, train_labels);\n",
    "acc10 = clf10.score(test_features,test_labels)\n",
    "print('Accuracy:',clf10.score(test_features,test_labels))\n",
    "\n",
    "# Instantiate model with 90 decision trees\n",
    "clf11 = sklearn.ensemble.RandomForestClassifier(n_estimators=90, random_state=21)\n",
    "clf11 = clf11.fit(train_features, train_labels);\n",
    "acc11 = clf11.score(test_features,test_labels)\n",
    "print('Accuracy:',clf11.score(test_features,test_labels))\n",
    "\n",
    "# Instantiate model with 100 decision trees\n",
    "clf12 = sklearn.ensemble.RandomForestClassifier(n_estimators=100, random_state=21)\n",
    "clf12 = clf12.fit(train_features, train_labels);\n",
    "acc12 = clf12.score(test_features,test_labels)\n",
    "print('Accuracy:',clf12.score(test_features,test_labels))\n",
    "\n",
    "# Instantiate model with 200 decision trees\n",
    "clf13 = sklearn.ensemble.RandomForestClassifier(n_estimators=200, random_state=21)\n",
    "clf13 = clf13.fit(train_features, train_labels);\n",
    "acc13 = clf13.score(test_features,test_labels)\n",
    "print('Accuracy:',clf13.score(test_features,test_labels))\n",
    "\n",
    "# Instantiate model with 300 decision trees\n",
    "clf14 = sklearn.ensemble.RandomForestClassifier(n_estimators=300, random_state=21)\n",
    "clf14 = clf14.fit(train_features, train_labels);\n",
    "acc14 = clf14.score(test_features,test_labels)\n",
    "print('Accuracy:',clf14.score(test_features,test_labels))\n",
    "\n",
    "# Instantiate model with 400 decision trees\n",
    "clf15 = sklearn.ensemble.RandomForestClassifier(n_estimators=400, random_state=21)\n",
    "clf15 = clf15.fit(train_features, train_labels);\n",
    "acc15 = clf15.score(test_features,test_labels)\n",
    "print('Accuracy:',clf15.score(test_features,test_labels))\n",
    "\n",
    "# Instantiate model with 500 decision trees\n",
    "clf16 = sklearn.ensemble.RandomForestClassifier(n_estimators=500, random_state=21)\n",
    "clf16 = clf16.fit(train_features, train_labels);\n",
    "acc16 = clf16.score(test_features,test_labels)\n",
    "print('Accuracy:',clf16.score(test_features,test_labels))\n",
    "\n",
    "# Instantiate model with 1000 decision trees\n",
    "clf17 = sklearn.ensemble.RandomForestClassifier(n_estimators=1000, random_state=21)\n",
    "clf17 = clf17.fit(train_features, train_labels);\n",
    "acc17 = clf17.score(test_features,test_labels)\n",
    "print('Accuracy:',clf17.score(test_features,test_labels))\n",
    "\n",
    "# Instantiate model with 1500 decision trees\n",
    "clf18 = sklearn.ensemble.RandomForestClassifier(n_estimators=1500, random_state=21)\n",
    "clf18 = clf18.fit(train_features, train_labels);\n",
    "acc18 = clf18.score(test_features,test_labels)\n",
    "print('Accuracy:',clf18.score(test_features,test_labels))\n",
    "\n",
    "# Instantiate model with 2000 decision trees\n",
    "clf19 = sklearn.ensemble.RandomForestClassifier(n_estimators=2000, random_state=21)\n",
    "clf19 = clf19.fit(train_features, train_labels);\n",
    "acc19 = clf19.score(test_features,test_labels)\n",
    "print('Accuracy:',clf19.score(test_features,test_labels))"
   ]
  },
  {
   "cell_type": "code",
   "execution_count": 13,
   "metadata": {
    "colab": {
     "base_uri": "https://localhost:8080/",
     "height": 356
    },
    "executionInfo": {
     "elapsed": 649,
     "status": "ok",
     "timestamp": 1623805255633,
     "user": {
      "displayName": "keqi he",
      "photoUrl": "",
      "userId": "14588499186061235912"
     },
     "user_tz": 240
    },
    "id": "XbvghpO48CC8",
    "outputId": "2b9a39c2-8195-40f0-dfeb-c8549a4835bd"
   },
   "outputs": [
    {
     "data": {
      "image/png": "[encoded data removed]",
      "text/plain": [
       "<Figure size 1440x360 with 1 Axes>"
      ]
     },
     "metadata": {
      "needs_background": "light"
     },
     "output_type": "display_data"
    }
   ],
   "source": [
    "# Import matplotlib for plotting and use magic command for Jupyter Notebooks\n",
    "import matplotlib.pyplot as plt\n",
    "%matplotlib inline\n",
    "x = [1,2,3,4,5,6,7,8,9,10,11,12,13,14,15,16,17,18,19]\n",
    "y = [acc1, acc2, acc3, acc4, acc5, acc6, acc7, acc8, acc9, acc10, acc11, acc12, acc13, acc14, acc15, acc16, acc17, acc18, acc19]\n",
    "plt.figure(figsize = (20, 5)) \n",
    "plt.plot(x,y,'s-',color = 'r')\n",
    "plt.xlabel(\"The number of forests\", fontdict={'size':25})#横坐标名字\n",
    "plt.ylabel(\"Accuracy\", fontdict={'size':25})#纵坐标名字\n",
    "plt.xticks(x, ('3','5','10','20','30','40','50','60','70','80','90','100','200','300','400','500','1000', '1500', '2000'), size=20)\n",
    "plt.yticks(size = 20)\n",
    "plt.grid()\n",
    "plt.show()"
   ]
  },
  {
   "cell_type": "code",
   "execution_count": 14,
   "metadata": {
    "id": "W1ZfarMKyrKq"
   },
   "outputs": [],
   "source": [
    "# Import the model we are using\n",
    "import sklearn.ensemble\n",
    "# Instantiate model with 1500 decision trees\n",
    "clf = sklearn.ensemble.RandomForestClassifier(n_estimators=1500, random_state=21)\n",
    "# Train the model on training data\n",
    "clf = clf.fit(train_features, train_labels);"
   ]
  },
  {
   "cell_type": "code",
   "execution_count": 15,
   "metadata": {
    "colab": {
     "base_uri": "https://localhost:8080/"
    },
    "executionInfo": {
     "elapsed": 1954,
     "status": "ok",
     "timestamp": 1623805675220,
     "user": {
      "displayName": "keqi he",
      "photoUrl": "",
      "userId": "14588499186061235912"
     },
     "user_tz": 240
    },
    "id": "dhWrwl8Z060U",
    "outputId": "49badbe0-0169-408c-9d20-5727ca4b71ac"
   },
   "outputs": [
    {
     "name": "stdout",
     "output_type": "stream",
     "text": [
      "Accuracy: 0.997337611194596\n"
     ]
    }
   ],
   "source": [
    "# Use the forest's predict method on the test data\n",
    "predictions = clf.predict(test_features)\n",
    "#Assess the accuracy using the validation dataset\n",
    "print('Accuracy:',clf.score(test_features,test_labels))"
   ]
  },
  {
   "cell_type": "code",
   "execution_count": 16,
   "metadata": {
    "colab": {
     "base_uri": "https://localhost:8080/"
    },
    "executionInfo": {
     "elapsed": 3452,
     "status": "ok",
     "timestamp": 1623719070512,
     "user": {
      "displayName": "keqi he",
      "photoUrl": "",
      "userId": "14588499186061235912"
     },
     "user_tz": 240
    },
    "id": "QY4QQ1kny0sZ",
    "outputId": "f871c700-1e46-4995-dcbb-1e3604d3a8c5"
   },
   "outputs": [
    {
     "name": "stdout",
     "output_type": "stream",
     "text": [
      "1.0\n"
     ]
    }
   ],
   "source": [
    "from sklearn.metrics import roc_auc_score\n",
    "prob_y = clf.predict_proba(test_features)\n",
    "prob_y = [p[1] for p in prob_y]\n",
    "print(roc_auc_score(test_labels, prob_y))"
   ]
  },
  {
   "cell_type": "code",
   "execution_count": 17,
   "metadata": {
    "colab": {
     "base_uri": "https://localhost:8080/"
    },
    "executionInfo": {
     "elapsed": 8,
     "status": "ok",
     "timestamp": 1623805675221,
     "user": {
      "displayName": "keqi he",
      "photoUrl": "",
      "userId": "14588499186061235912"
     },
     "user_tz": 240
    },
    "id": "3zBK6O_NywG2",
    "outputId": "3b59e7f0-3a06-42b8-edf7-b7f094d2d1b7"
   },
   "outputs": [
    {
     "name": "stdout",
     "output_type": "stream",
     "text": [
      "Variable: saltwater_max        Importance: 0.3\n",
      "Variable: dem                  Importance: 0.25\n",
      "Variable: groundwater_max      Importance: 0.16\n",
      "Variable: dist2canal           Importance: 0.15\n",
      "Variable: gw_duration          Importance: 0.13\n"
     ]
    }
   ],
   "source": [
    "# Get numerical feature importances\n",
    "importances = list(clf.feature_importances_)\n",
    "# List of tuples with variable and importance\n",
    "feature_importances = [(feature, round(importance, 2)) for feature, importance in zip(feature_list, importances)]\n",
    "# Sort the feature importances by most important first\n",
    "feature_importances = sorted(feature_importances, key = lambda x: x[1], reverse = True)\n",
    "# Print out the feature and importances \n",
    "[print('Variable: {:20} Importance: {}'.format(*pair)) for pair in feature_importances];"
   ]
  },
  {
   "cell_type": "code",
   "execution_count": 18,
   "metadata": {
    "colab": {
     "base_uri": "https://localhost:8080/",
     "height": 437
    },
    "executionInfo": {
     "elapsed": 499,
     "status": "ok",
     "timestamp": 1623805681755,
     "user": {
      "displayName": "keqi he",
      "photoUrl": "",
      "userId": "14588499186061235912"
     },
     "user_tz": 240
    },
    "id": "ibMy1w7ryx-7",
    "outputId": "22b0f86a-7ba5-4796-b540-1e65eba8fcc4"
   },
   "outputs": [
    {
     "data": {
      "image/png": "[encoded data removed]",
      "text/plain": [
       "<Figure size 432x288 with 1 Axes>"
      ]
     },
     "metadata": {},
     "output_type": "display_data"
    }
   ],
   "source": [
    "# Import matplotlib for plotting and use magic command for Jupyter Notebooks\n",
    "import matplotlib.pyplot as plt\n",
    "%matplotlib inline\n",
    "# Set the style\n",
    "plt.style.use('fivethirtyeight')\n",
    "# list of x locations for plotting\n",
    "x_values = list(range(len(importances)))\n",
    "# Make a bar chart\n",
    "plt.bar(x_values, importances, orientation = 'vertical')\n",
    "# Tick labels for x axis\n",
    "plt.xticks(x_values, feature_list, rotation='vertical')\n",
    "# Axis labels and title\n",
    "plt.ylabel('Importance'); plt.xlabel('Variable'); plt.title('Variable Importances');"
   ]
  },
  {
   "cell_type": "code",
   "execution_count": null,
   "metadata": {},
   "outputs": [],
   "source": []
  }
 ],
 "metadata": {
  "colab": {
   "authorship_tag": "ABX9TyOd/cMcN28uH3/yXHxez2NE",
   "collapsed_sections": [],
   "mount_file_id": "1dOgQNMFfZVYyN39hNCw9hIEWQS2_krPv",
   "name": "woody.ipynb",
   "provenance": []
  },
  "kernelspec": {
   "display_name": "Python 3 (ipykernel)",
   "language": "python",
   "name": "python3"
  },
  "language_info": {
   "codemirror_mode": {
    "name": "ipython",
    "version": 3
   },
   "file_extension": ".py",
   "mimetype": "text/x-python",
   "name": "python",
   "nbconvert_exporter": "python",
   "pygments_lexer": "ipython3",
   "version": "3.9.12"
  }
 },
 "nbformat": 4,
 "nbformat_minor": 4
}
